{
 "cells": [
  {
   "cell_type": "code",
   "execution_count": 15,
   "metadata": {},
   "outputs": [],
   "source": [
    "#Import Libraries\n",
    "import pandas as pd\n",
    "import matplotlib.pyplot as plt"
   ]
  },
  {
   "cell_type": "code",
   "execution_count": 16,
   "metadata": {},
   "outputs": [],
   "source": [
    "#Load the data\n",
    "job = pd.read_csv('/Users/macbookair/Desktop/project/Resume_Analyser/resume-job-matching/data/job_title_des.csv')\n",
    "resume = pd.read_csv('/Users/macbookair/Desktop/project/Resume_Analyser/resume-job-matching/data/UpdatedResumeDataSet.csv')"
   ]
  },
  {
   "cell_type": "code",
   "execution_count": 17,
   "metadata": {},
   "outputs": [
    {
     "data": {
      "text/html": [
       "<div>\n",
       "<style scoped>\n",
       "    .dataframe tbody tr th:only-of-type {\n",
       "        vertical-align: middle;\n",
       "    }\n",
       "\n",
       "    .dataframe tbody tr th {\n",
       "        vertical-align: top;\n",
       "    }\n",
       "\n",
       "    .dataframe thead th {\n",
       "        text-align: right;\n",
       "    }\n",
       "</style>\n",
       "<table border=\"1\" class=\"dataframe\">\n",
       "  <thead>\n",
       "    <tr style=\"text-align: right;\">\n",
       "      <th></th>\n",
       "      <th>Category</th>\n",
       "      <th>Resume</th>\n",
       "    </tr>\n",
       "  </thead>\n",
       "  <tbody>\n",
       "    <tr>\n",
       "      <th>0</th>\n",
       "      <td>Data Science</td>\n",
       "      <td>Skills * Programming Languages: Python (pandas, numpy, scipy, scikit-learn, matplotlib), Sql, Java, JavaScript/JQuery. * Machine learning: Regression, SVM, NaÃ¯ve Bayes, KNN, Random Forest, Decision Trees, Boosting techniques, Cluster Analysis, Word Embedding, Sentiment Analysis, Natural Language processing, Dimensionality reduction, Topic Modelling (LDA, NMF), PCA &amp; Neural Nets. * Database Visualizations: Mysql, SqlServer, Cassandra, Hbase, ElasticSearch D3.js, DC.js, Plotly, kibana, matplotlib, ggplot, Tableau. * Others: Regular Expression, HTML, CSS, Angular 6, Logstash, Kafka, Python Flask, Git, Docker, computer vision - Open CV and understanding of Deep learning.Education Details \\r\\n\\r\\nData Science Assurance Associate \\r\\n\\r\\nData Science Assurance Associate - Ernst &amp; Young LLP\\...</td>\n",
       "    </tr>\n",
       "    <tr>\n",
       "      <th>1</th>\n",
       "      <td>Data Science</td>\n",
       "      <td>Education Details \\r\\nMay 2013 to May 2017 B.E   UIT-RGPV\\r\\nData Scientist \\r\\n\\r\\nData Scientist - Matelabs\\r\\nSkill Details \\r\\nPython- Exprience - Less than 1 year months\\r\\nStatsmodels- Exprience - 12 months\\r\\nAWS- Exprience - Less than 1 year months\\r\\nMachine learning- Exprience - Less than 1 year months\\r\\nSklearn- Exprience - Less than 1 year months\\r\\nScipy- Exprience - Less than 1 year months\\r\\nKeras- Exprience - Less than 1 year monthsCompany Details \\r\\ncompany - Matelabs\\r\\ndescription - ML Platform for business professionals, dummies and enthusiasts.\\r\\n60/A Koramangala 5th block,\\r\\nAchievements/Tasks behind sukh sagar, Bengaluru,\\r\\nIndia                               Developed and deployed auto preprocessing steps of machine learning mainly missing value\\r\\ntreatmen...</td>\n",
       "    </tr>\n",
       "    <tr>\n",
       "      <th>2</th>\n",
       "      <td>Data Science</td>\n",
       "      <td>Areas of Interest Deep Learning, Control System Design, Programming in-Python, Electric Machinery, Web Development, Analytics Technical Activities q Hindustan Aeronautics Limited, Bangalore - For 4 weeks under the guidance of Mr. Satish, Senior Engineer in the hangar of Mirage 2000 fighter aircraft Technical Skills Programming Matlab, Python and Java, LabView, Python WebFrameWork-Django, Flask, LTSPICE-intermediate Languages and and MIPOWER-intermediate, Github (GitBash), Jupyter Notebook, Xampp, MySQL-Basics, Python Software Packages Interpreters-Anaconda, Python2, Python3, Pycharm, Java IDE-Eclipse Operating Systems Windows, Ubuntu, Debian-Kali Linux Education Details \\r\\nJanuary 2019 B.Tech. Electrical and Electronics Engineering  Manipal Institute of Technology\\r\\nJanuary 2015    D...</td>\n",
       "    </tr>\n",
       "    <tr>\n",
       "      <th>3</th>\n",
       "      <td>Data Science</td>\n",
       "      <td>Skills â¢ R â¢ Python â¢ SAP HANA â¢ Tableau â¢ SAP HANA SQL â¢ SAP HANA PAL â¢ MS SQL â¢ SAP Lumira â¢ C# â¢ Linear Programming â¢ Data Modelling â¢ Advance Analytics â¢ SCM Analytics â¢ Retail Analytics â¢Social Media Analytics â¢ NLP Education Details \\r\\nJanuary 2017 to January 2018 PGDM Business Analytics  Great Lakes Institute of Management &amp; Illinois Institute of Technology\\r\\nJanuary 2013 Bachelor of Engineering Electronics and Communication Bengaluru, Karnataka New Horizon College of Engineering, Bangalore Visvesvaraya Technological University\\r\\nData Science Consultant \\r\\n\\r\\nConsultant - Deloitte USI\\r\\nSkill Details \\r\\nLINEAR PROGRAMMING- Exprience - 6 months\\r\\nRETAIL- Exprience - 6 months\\r\\nRETAIL MARKETING- Exprience - 6 months\\r\\nSCM- Exprience - 6 mo...</td>\n",
       "    </tr>\n",
       "    <tr>\n",
       "      <th>4</th>\n",
       "      <td>Data Science</td>\n",
       "      <td>Education Details \\r\\n MCA   YMCAUST,  Faridabad,  Haryana\\r\\nData Science internship \\r\\n\\r\\n\\r\\nSkill Details \\r\\nData Structure- Exprience - Less than 1 year months\\r\\nC- Exprience - Less than 1 year months\\r\\nData Analysis- Exprience - Less than 1 year months\\r\\nPython- Exprience - Less than 1 year months\\r\\nCore Java- Exprience - Less than 1 year months\\r\\nDatabase Management- Exprience - Less than 1 year monthsCompany Details \\r\\ncompany - Itechpower\\r\\ndescription -</td>\n",
       "    </tr>\n",
       "  </tbody>\n",
       "</table>\n",
       "</div>"
      ],
      "text/plain": [
       "       Category  \\\n",
       "0  Data Science   \n",
       "1  Data Science   \n",
       "2  Data Science   \n",
       "3  Data Science   \n",
       "4  Data Science   \n",
       "\n",
       "                                                                                                                                                                                                                                                                                                                                                                                                                                                                                                                                                                                                                                                                                                                                                                                                                            Resume  \n",
       "0  Skills * Programming Languages: Python (pandas, numpy, scipy, scikit-learn, matplotlib), Sql, Java, JavaScript/JQuery. * Machine learning: Regression, SVM, NaÃ¯ve Bayes, KNN, Random Forest, Decision Trees, Boosting techniques, Cluster Analysis, Word Embedding, Sentiment Analysis, Natural Language processing, Dimensionality reduction, Topic Modelling (LDA, NMF), PCA & Neural Nets. * Database Visualizations: Mysql, SqlServer, Cassandra, Hbase, ElasticSearch D3.js, DC.js, Plotly, kibana, matplotlib, ggplot, Tableau. * Others: Regular Expression, HTML, CSS, Angular 6, Logstash, Kafka, Python Flask, Git, Docker, computer vision - Open CV and understanding of Deep learning.Education Details \\r\\n\\r\\nData Science Assurance Associate \\r\\n\\r\\nData Science Assurance Associate - Ernst & Young LLP\\...  \n",
       "1  Education Details \\r\\nMay 2013 to May 2017 B.E   UIT-RGPV\\r\\nData Scientist \\r\\n\\r\\nData Scientist - Matelabs\\r\\nSkill Details \\r\\nPython- Exprience - Less than 1 year months\\r\\nStatsmodels- Exprience - 12 months\\r\\nAWS- Exprience - Less than 1 year months\\r\\nMachine learning- Exprience - Less than 1 year months\\r\\nSklearn- Exprience - Less than 1 year months\\r\\nScipy- Exprience - Less than 1 year months\\r\\nKeras- Exprience - Less than 1 year monthsCompany Details \\r\\ncompany - Matelabs\\r\\ndescription - ML Platform for business professionals, dummies and enthusiasts.\\r\\n60/A Koramangala 5th block,\\r\\nAchievements/Tasks behind sukh sagar, Bengaluru,\\r\\nIndia                               Developed and deployed auto preprocessing steps of machine learning mainly missing value\\r\\ntreatmen...  \n",
       "2  Areas of Interest Deep Learning, Control System Design, Programming in-Python, Electric Machinery, Web Development, Analytics Technical Activities q Hindustan Aeronautics Limited, Bangalore - For 4 weeks under the guidance of Mr. Satish, Senior Engineer in the hangar of Mirage 2000 fighter aircraft Technical Skills Programming Matlab, Python and Java, LabView, Python WebFrameWork-Django, Flask, LTSPICE-intermediate Languages and and MIPOWER-intermediate, Github (GitBash), Jupyter Notebook, Xampp, MySQL-Basics, Python Software Packages Interpreters-Anaconda, Python2, Python3, Pycharm, Java IDE-Eclipse Operating Systems Windows, Ubuntu, Debian-Kali Linux Education Details \\r\\nJanuary 2019 B.Tech. Electrical and Electronics Engineering  Manipal Institute of Technology\\r\\nJanuary 2015    D...  \n",
       "3  Skills â¢ R â¢ Python â¢ SAP HANA â¢ Tableau â¢ SAP HANA SQL â¢ SAP HANA PAL â¢ MS SQL â¢ SAP Lumira â¢ C# â¢ Linear Programming â¢ Data Modelling â¢ Advance Analytics â¢ SCM Analytics â¢ Retail Analytics â¢Social Media Analytics â¢ NLP Education Details \\r\\nJanuary 2017 to January 2018 PGDM Business Analytics  Great Lakes Institute of Management & Illinois Institute of Technology\\r\\nJanuary 2013 Bachelor of Engineering Electronics and Communication Bengaluru, Karnataka New Horizon College of Engineering, Bangalore Visvesvaraya Technological University\\r\\nData Science Consultant \\r\\n\\r\\nConsultant - Deloitte USI\\r\\nSkill Details \\r\\nLINEAR PROGRAMMING- Exprience - 6 months\\r\\nRETAIL- Exprience - 6 months\\r\\nRETAIL MARKETING- Exprience - 6 months\\r\\nSCM- Exprience - 6 mo...  \n",
       "4                                                                                                                                                                                                                                                                                                                                   Education Details \\r\\n MCA   YMCAUST,  Faridabad,  Haryana\\r\\nData Science internship \\r\\n\\r\\n\\r\\nSkill Details \\r\\nData Structure- Exprience - Less than 1 year months\\r\\nC- Exprience - Less than 1 year months\\r\\nData Analysis- Exprience - Less than 1 year months\\r\\nPython- Exprience - Less than 1 year months\\r\\nCore Java- Exprience - Less than 1 year months\\r\\nDatabase Management- Exprience - Less than 1 year monthsCompany Details \\r\\ncompany - Itechpower\\r\\ndescription -   "
      ]
     },
     "execution_count": 17,
     "metadata": {},
     "output_type": "execute_result"
    }
   ],
   "source": [
    "resume.head()"
   ]
  },
  {
   "cell_type": "code",
   "execution_count": 18,
   "metadata": {},
   "outputs": [
    {
     "data": {
      "text/html": [
       "<div>\n",
       "<style scoped>\n",
       "    .dataframe tbody tr th:only-of-type {\n",
       "        vertical-align: middle;\n",
       "    }\n",
       "\n",
       "    .dataframe tbody tr th {\n",
       "        vertical-align: top;\n",
       "    }\n",
       "\n",
       "    .dataframe thead th {\n",
       "        text-align: right;\n",
       "    }\n",
       "</style>\n",
       "<table border=\"1\" class=\"dataframe\">\n",
       "  <thead>\n",
       "    <tr style=\"text-align: right;\">\n",
       "      <th></th>\n",
       "      <th>Unnamed: 0</th>\n",
       "      <th>Job Title</th>\n",
       "      <th>Job Description</th>\n",
       "    </tr>\n",
       "  </thead>\n",
       "  <tbody>\n",
       "    <tr>\n",
       "      <th>0</th>\n",
       "      <td>0</td>\n",
       "      <td>Flutter Developer</td>\n",
       "      <td>We are looking for hire experts flutter developer. So you are eligible this post then apply your resume.\\nJob Types: Full-time, Part-time\\nSalary: ₹20,000.00 - ₹40,000.00 per month\\nBenefits:\\nFlexible schedule\\nFood allowance\\nSchedule:\\nDay shift\\nSupplemental Pay:\\nJoining bonus\\nOvertime pay\\nExperience:\\ntotal work: 1 year (Preferred)\\nHousing rent subsidy:\\nYes\\nIndustry:\\nSoftware Development\\nWork Remotely:\\nTemporarily due to COVID-19</td>\n",
       "    </tr>\n",
       "    <tr>\n",
       "      <th>1</th>\n",
       "      <td>1</td>\n",
       "      <td>Django Developer</td>\n",
       "      <td>PYTHON/DJANGO (Developer/Lead) - Job Code(PDJ - 04)\\nStrong Python experience in API development (REST/RPC).\\nExperience working with API Frameworks (Django/flask).\\nExperience evaluating and improving the efficiency of programs in a Linux environment.\\nAbility to effectively handle multiple tasks with a high level of accuracy and attention to detail.\\nGood verbal and written communication skills.\\nWorking knowledge of SQL.\\nJSON experience preferred.\\nGood knowledge in automated unit testing using PyUnit.</td>\n",
       "    </tr>\n",
       "    <tr>\n",
       "      <th>2</th>\n",
       "      <td>2</td>\n",
       "      <td>Machine Learning</td>\n",
       "      <td>Data Scientist (Contractor)\\n\\nBangalore, IN\\n\\nResponsibilities\\n\\nWe are looking for a capable data scientist to join the Analytics team, reporting locally in India Bangalore. This person’s responsibilities include research, design and development of Machine Learning and Deep Learning algorithms to tackle a variety of Fraud oriented challenges. The data scientist will work closely with software engineers and program managers to deliver end-to-end products, including: data collection in big scale and analysis, exploring different algorithmic approaches, model development, assessment and validation – all the way through production.\\n\\nQualifications\\n\\nAt least 3 years of hands-on development of complex Machine Learning models using modern frameworks and tools, ideally Python based.\\nS...</td>\n",
       "    </tr>\n",
       "    <tr>\n",
       "      <th>3</th>\n",
       "      <td>3</td>\n",
       "      <td>iOS Developer</td>\n",
       "      <td>JOB DESCRIPTION:\\n\\nStrong framework outside of iOS is always a plus\\n\\niOS experience and generalist engineers with backgrounds in related technologies is a plus\\n\\nA disciplined approach to development, documentation and file structure\\n\\nStrong visual design sense and excellent taste\\n\\nA constant desire to improve, learn more and take things higher\\n\\nAn excellent understanding of networking, mobile network issues, concurrency and threading\\n\\nExperience working with internationalized apps\\n\\nRESPONSIBILITIES\\nDesign and build advanced applications for the iOS platform.\\nCollaborate with cross-functional teams to define, design, and ship new features..\\nWork on bug fixing and improving application performance.\\nContinuously discover, evaluate, and implement new technologies to maxi...</td>\n",
       "    </tr>\n",
       "    <tr>\n",
       "      <th>4</th>\n",
       "      <td>4</td>\n",
       "      <td>Full Stack Developer</td>\n",
       "      <td>job responsibility full stack engineer – react role make impact petsmart transforming engineering team meet need rapidly changing retail environment role foundational helping build craft petsmart ’ prowess making react j native key framework across mobile web property working across web mobile application part building amazing mobile first customer experience impact customer store digital channel goal responsibility include act full stack developer across petsmart ’ various web mobile solution full stack engineer help build petsmart ’ competency using react j native across mobile web property partner web engineering team strategy share component across application best practice new advancement react community work product ux team review design concept offer suggestion decrease complexi...</td>\n",
       "    </tr>\n",
       "  </tbody>\n",
       "</table>\n",
       "</div>"
      ],
      "text/plain": [
       "   Unnamed: 0             Job Title  \\\n",
       "0           0     Flutter Developer   \n",
       "1           1      Django Developer   \n",
       "2           2      Machine Learning   \n",
       "3           3         iOS Developer   \n",
       "4           4  Full Stack Developer   \n",
       "\n",
       "                                                                                                                                                                                                                                                                                                                                                                                                                                                                                                                                                                                                                                                                                                                                                                                                                   Job Description  \n",
       "0                                                                                                                                                                                                                                                                                                                                                                  We are looking for hire experts flutter developer. So you are eligible this post then apply your resume.\\nJob Types: Full-time, Part-time\\nSalary: ₹20,000.00 - ₹40,000.00 per month\\nBenefits:\\nFlexible schedule\\nFood allowance\\nSchedule:\\nDay shift\\nSupplemental Pay:\\nJoining bonus\\nOvertime pay\\nExperience:\\ntotal work: 1 year (Preferred)\\nHousing rent subsidy:\\nYes\\nIndustry:\\nSoftware Development\\nWork Remotely:\\nTemporarily due to COVID-19  \n",
       "1                                                                                                                                                                                                                                                                                                  PYTHON/DJANGO (Developer/Lead) - Job Code(PDJ - 04)\\nStrong Python experience in API development (REST/RPC).\\nExperience working with API Frameworks (Django/flask).\\nExperience evaluating and improving the efficiency of programs in a Linux environment.\\nAbility to effectively handle multiple tasks with a high level of accuracy and attention to detail.\\nGood verbal and written communication skills.\\nWorking knowledge of SQL.\\nJSON experience preferred.\\nGood knowledge in automated unit testing using PyUnit.  \n",
       "2  Data Scientist (Contractor)\\n\\nBangalore, IN\\n\\nResponsibilities\\n\\nWe are looking for a capable data scientist to join the Analytics team, reporting locally in India Bangalore. This person’s responsibilities include research, design and development of Machine Learning and Deep Learning algorithms to tackle a variety of Fraud oriented challenges. The data scientist will work closely with software engineers and program managers to deliver end-to-end products, including: data collection in big scale and analysis, exploring different algorithmic approaches, model development, assessment and validation – all the way through production.\\n\\nQualifications\\n\\nAt least 3 years of hands-on development of complex Machine Learning models using modern frameworks and tools, ideally Python based.\\nS...  \n",
       "3  JOB DESCRIPTION:\\n\\nStrong framework outside of iOS is always a plus\\n\\niOS experience and generalist engineers with backgrounds in related technologies is a plus\\n\\nA disciplined approach to development, documentation and file structure\\n\\nStrong visual design sense and excellent taste\\n\\nA constant desire to improve, learn more and take things higher\\n\\nAn excellent understanding of networking, mobile network issues, concurrency and threading\\n\\nExperience working with internationalized apps\\n\\nRESPONSIBILITIES\\nDesign and build advanced applications for the iOS platform.\\nCollaborate with cross-functional teams to define, design, and ship new features..\\nWork on bug fixing and improving application performance.\\nContinuously discover, evaluate, and implement new technologies to maxi...  \n",
       "4  job responsibility full stack engineer – react role make impact petsmart transforming engineering team meet need rapidly changing retail environment role foundational helping build craft petsmart ’ prowess making react j native key framework across mobile web property working across web mobile application part building amazing mobile first customer experience impact customer store digital channel goal responsibility include act full stack developer across petsmart ’ various web mobile solution full stack engineer help build petsmart ’ competency using react j native across mobile web property partner web engineering team strategy share component across application best practice new advancement react community work product ux team review design concept offer suggestion decrease complexi...  "
      ]
     },
     "execution_count": 18,
     "metadata": {},
     "output_type": "execute_result"
    }
   ],
   "source": [
    "job.head()"
   ]
  },
  {
   "cell_type": "code",
   "execution_count": 19,
   "metadata": {},
   "outputs": [],
   "source": [
    "pd.set_option('max_colwidth', 800)"
   ]
  },
  {
   "cell_type": "code",
   "execution_count": 20,
   "metadata": {},
   "outputs": [
    {
     "data": {
      "text/html": [
       "<div>\n",
       "<style scoped>\n",
       "    .dataframe tbody tr th:only-of-type {\n",
       "        vertical-align: middle;\n",
       "    }\n",
       "\n",
       "    .dataframe tbody tr th {\n",
       "        vertical-align: top;\n",
       "    }\n",
       "\n",
       "    .dataframe thead th {\n",
       "        text-align: right;\n",
       "    }\n",
       "</style>\n",
       "<table border=\"1\" class=\"dataframe\">\n",
       "  <thead>\n",
       "    <tr style=\"text-align: right;\">\n",
       "      <th></th>\n",
       "      <th>Category</th>\n",
       "      <th>Resume</th>\n",
       "    </tr>\n",
       "  </thead>\n",
       "  <tbody>\n",
       "    <tr>\n",
       "      <th>0</th>\n",
       "      <td>Data Science</td>\n",
       "      <td>Skills * Programming Languages: Python (pandas, numpy, scipy, scikit-learn, matplotlib), Sql, Java, JavaScript/JQuery. * Machine learning: Regression, SVM, NaÃ¯ve Bayes, KNN, Random Forest, Decision Trees, Boosting techniques, Cluster Analysis, Word Embedding, Sentiment Analysis, Natural Language processing, Dimensionality reduction, Topic Modelling (LDA, NMF), PCA &amp; Neural Nets. * Database Visualizations: Mysql, SqlServer, Cassandra, Hbase, ElasticSearch D3.js, DC.js, Plotly, kibana, matplotlib, ggplot, Tableau. * Others: Regular Expression, HTML, CSS, Angular 6, Logstash, Kafka, Python Flask, Git, Docker, computer vision - Open CV and understanding of Deep learning.Education Details \\r\\n\\r\\nData Science Assurance Associate \\r\\n\\r\\nData Science Assurance Associate - Ernst &amp; Young LLP\\...</td>\n",
       "    </tr>\n",
       "    <tr>\n",
       "      <th>1</th>\n",
       "      <td>Data Science</td>\n",
       "      <td>Education Details \\r\\nMay 2013 to May 2017 B.E   UIT-RGPV\\r\\nData Scientist \\r\\n\\r\\nData Scientist - Matelabs\\r\\nSkill Details \\r\\nPython- Exprience - Less than 1 year months\\r\\nStatsmodels- Exprience - 12 months\\r\\nAWS- Exprience - Less than 1 year months\\r\\nMachine learning- Exprience - Less than 1 year months\\r\\nSklearn- Exprience - Less than 1 year months\\r\\nScipy- Exprience - Less than 1 year months\\r\\nKeras- Exprience - Less than 1 year monthsCompany Details \\r\\ncompany - Matelabs\\r\\ndescription - ML Platform for business professionals, dummies and enthusiasts.\\r\\n60/A Koramangala 5th block,\\r\\nAchievements/Tasks behind sukh sagar, Bengaluru,\\r\\nIndia                               Developed and deployed auto preprocessing steps of machine learning mainly missing value\\r\\ntreatmen...</td>\n",
       "    </tr>\n",
       "    <tr>\n",
       "      <th>2</th>\n",
       "      <td>Data Science</td>\n",
       "      <td>Areas of Interest Deep Learning, Control System Design, Programming in-Python, Electric Machinery, Web Development, Analytics Technical Activities q Hindustan Aeronautics Limited, Bangalore - For 4 weeks under the guidance of Mr. Satish, Senior Engineer in the hangar of Mirage 2000 fighter aircraft Technical Skills Programming Matlab, Python and Java, LabView, Python WebFrameWork-Django, Flask, LTSPICE-intermediate Languages and and MIPOWER-intermediate, Github (GitBash), Jupyter Notebook, Xampp, MySQL-Basics, Python Software Packages Interpreters-Anaconda, Python2, Python3, Pycharm, Java IDE-Eclipse Operating Systems Windows, Ubuntu, Debian-Kali Linux Education Details \\r\\nJanuary 2019 B.Tech. Electrical and Electronics Engineering  Manipal Institute of Technology\\r\\nJanuary 2015    D...</td>\n",
       "    </tr>\n",
       "    <tr>\n",
       "      <th>3</th>\n",
       "      <td>Data Science</td>\n",
       "      <td>Skills â¢ R â¢ Python â¢ SAP HANA â¢ Tableau â¢ SAP HANA SQL â¢ SAP HANA PAL â¢ MS SQL â¢ SAP Lumira â¢ C# â¢ Linear Programming â¢ Data Modelling â¢ Advance Analytics â¢ SCM Analytics â¢ Retail Analytics â¢Social Media Analytics â¢ NLP Education Details \\r\\nJanuary 2017 to January 2018 PGDM Business Analytics  Great Lakes Institute of Management &amp; Illinois Institute of Technology\\r\\nJanuary 2013 Bachelor of Engineering Electronics and Communication Bengaluru, Karnataka New Horizon College of Engineering, Bangalore Visvesvaraya Technological University\\r\\nData Science Consultant \\r\\n\\r\\nConsultant - Deloitte USI\\r\\nSkill Details \\r\\nLINEAR PROGRAMMING- Exprience - 6 months\\r\\nRETAIL- Exprience - 6 months\\r\\nRETAIL MARKETING- Exprience - 6 months\\r\\nSCM- Exprience - 6 mo...</td>\n",
       "    </tr>\n",
       "    <tr>\n",
       "      <th>4</th>\n",
       "      <td>Data Science</td>\n",
       "      <td>Education Details \\r\\n MCA   YMCAUST,  Faridabad,  Haryana\\r\\nData Science internship \\r\\n\\r\\n\\r\\nSkill Details \\r\\nData Structure- Exprience - Less than 1 year months\\r\\nC- Exprience - Less than 1 year months\\r\\nData Analysis- Exprience - Less than 1 year months\\r\\nPython- Exprience - Less than 1 year months\\r\\nCore Java- Exprience - Less than 1 year months\\r\\nDatabase Management- Exprience - Less than 1 year monthsCompany Details \\r\\ncompany - Itechpower\\r\\ndescription -</td>\n",
       "    </tr>\n",
       "  </tbody>\n",
       "</table>\n",
       "</div>"
      ],
      "text/plain": [
       "       Category  \\\n",
       "0  Data Science   \n",
       "1  Data Science   \n",
       "2  Data Science   \n",
       "3  Data Science   \n",
       "4  Data Science   \n",
       "\n",
       "                                                                                                                                                                                                                                                                                                                                                                                                                                                                                                                                                                                                                                                                                                                                                                                                                            Resume  \n",
       "0  Skills * Programming Languages: Python (pandas, numpy, scipy, scikit-learn, matplotlib), Sql, Java, JavaScript/JQuery. * Machine learning: Regression, SVM, NaÃ¯ve Bayes, KNN, Random Forest, Decision Trees, Boosting techniques, Cluster Analysis, Word Embedding, Sentiment Analysis, Natural Language processing, Dimensionality reduction, Topic Modelling (LDA, NMF), PCA & Neural Nets. * Database Visualizations: Mysql, SqlServer, Cassandra, Hbase, ElasticSearch D3.js, DC.js, Plotly, kibana, matplotlib, ggplot, Tableau. * Others: Regular Expression, HTML, CSS, Angular 6, Logstash, Kafka, Python Flask, Git, Docker, computer vision - Open CV and understanding of Deep learning.Education Details \\r\\n\\r\\nData Science Assurance Associate \\r\\n\\r\\nData Science Assurance Associate - Ernst & Young LLP\\...  \n",
       "1  Education Details \\r\\nMay 2013 to May 2017 B.E   UIT-RGPV\\r\\nData Scientist \\r\\n\\r\\nData Scientist - Matelabs\\r\\nSkill Details \\r\\nPython- Exprience - Less than 1 year months\\r\\nStatsmodels- Exprience - 12 months\\r\\nAWS- Exprience - Less than 1 year months\\r\\nMachine learning- Exprience - Less than 1 year months\\r\\nSklearn- Exprience - Less than 1 year months\\r\\nScipy- Exprience - Less than 1 year months\\r\\nKeras- Exprience - Less than 1 year monthsCompany Details \\r\\ncompany - Matelabs\\r\\ndescription - ML Platform for business professionals, dummies and enthusiasts.\\r\\n60/A Koramangala 5th block,\\r\\nAchievements/Tasks behind sukh sagar, Bengaluru,\\r\\nIndia                               Developed and deployed auto preprocessing steps of machine learning mainly missing value\\r\\ntreatmen...  \n",
       "2  Areas of Interest Deep Learning, Control System Design, Programming in-Python, Electric Machinery, Web Development, Analytics Technical Activities q Hindustan Aeronautics Limited, Bangalore - For 4 weeks under the guidance of Mr. Satish, Senior Engineer in the hangar of Mirage 2000 fighter aircraft Technical Skills Programming Matlab, Python and Java, LabView, Python WebFrameWork-Django, Flask, LTSPICE-intermediate Languages and and MIPOWER-intermediate, Github (GitBash), Jupyter Notebook, Xampp, MySQL-Basics, Python Software Packages Interpreters-Anaconda, Python2, Python3, Pycharm, Java IDE-Eclipse Operating Systems Windows, Ubuntu, Debian-Kali Linux Education Details \\r\\nJanuary 2019 B.Tech. Electrical and Electronics Engineering  Manipal Institute of Technology\\r\\nJanuary 2015    D...  \n",
       "3  Skills â¢ R â¢ Python â¢ SAP HANA â¢ Tableau â¢ SAP HANA SQL â¢ SAP HANA PAL â¢ MS SQL â¢ SAP Lumira â¢ C# â¢ Linear Programming â¢ Data Modelling â¢ Advance Analytics â¢ SCM Analytics â¢ Retail Analytics â¢Social Media Analytics â¢ NLP Education Details \\r\\nJanuary 2017 to January 2018 PGDM Business Analytics  Great Lakes Institute of Management & Illinois Institute of Technology\\r\\nJanuary 2013 Bachelor of Engineering Electronics and Communication Bengaluru, Karnataka New Horizon College of Engineering, Bangalore Visvesvaraya Technological University\\r\\nData Science Consultant \\r\\n\\r\\nConsultant - Deloitte USI\\r\\nSkill Details \\r\\nLINEAR PROGRAMMING- Exprience - 6 months\\r\\nRETAIL- Exprience - 6 months\\r\\nRETAIL MARKETING- Exprience - 6 months\\r\\nSCM- Exprience - 6 mo...  \n",
       "4                                                                                                                                                                                                                                                                                                                                   Education Details \\r\\n MCA   YMCAUST,  Faridabad,  Haryana\\r\\nData Science internship \\r\\n\\r\\n\\r\\nSkill Details \\r\\nData Structure- Exprience - Less than 1 year months\\r\\nC- Exprience - Less than 1 year months\\r\\nData Analysis- Exprience - Less than 1 year months\\r\\nPython- Exprience - Less than 1 year months\\r\\nCore Java- Exprience - Less than 1 year months\\r\\nDatabase Management- Exprience - Less than 1 year monthsCompany Details \\r\\ncompany - Itechpower\\r\\ndescription -   "
      ]
     },
     "execution_count": 20,
     "metadata": {},
     "output_type": "execute_result"
    }
   ],
   "source": [
    "resume.head()"
   ]
  },
  {
   "cell_type": "code",
   "execution_count": 21,
   "metadata": {},
   "outputs": [
    {
     "data": {
      "text/html": [
       "<div>\n",
       "<style scoped>\n",
       "    .dataframe tbody tr th:only-of-type {\n",
       "        vertical-align: middle;\n",
       "    }\n",
       "\n",
       "    .dataframe tbody tr th {\n",
       "        vertical-align: top;\n",
       "    }\n",
       "\n",
       "    .dataframe thead th {\n",
       "        text-align: right;\n",
       "    }\n",
       "</style>\n",
       "<table border=\"1\" class=\"dataframe\">\n",
       "  <thead>\n",
       "    <tr style=\"text-align: right;\">\n",
       "      <th></th>\n",
       "      <th>Unnamed: 0</th>\n",
       "      <th>Job Title</th>\n",
       "      <th>Job Description</th>\n",
       "    </tr>\n",
       "  </thead>\n",
       "  <tbody>\n",
       "    <tr>\n",
       "      <th>0</th>\n",
       "      <td>0</td>\n",
       "      <td>Flutter Developer</td>\n",
       "      <td>We are looking for hire experts flutter developer. So you are eligible this post then apply your resume.\\nJob Types: Full-time, Part-time\\nSalary: ₹20,000.00 - ₹40,000.00 per month\\nBenefits:\\nFlexible schedule\\nFood allowance\\nSchedule:\\nDay shift\\nSupplemental Pay:\\nJoining bonus\\nOvertime pay\\nExperience:\\ntotal work: 1 year (Preferred)\\nHousing rent subsidy:\\nYes\\nIndustry:\\nSoftware Development\\nWork Remotely:\\nTemporarily due to COVID-19</td>\n",
       "    </tr>\n",
       "    <tr>\n",
       "      <th>1</th>\n",
       "      <td>1</td>\n",
       "      <td>Django Developer</td>\n",
       "      <td>PYTHON/DJANGO (Developer/Lead) - Job Code(PDJ - 04)\\nStrong Python experience in API development (REST/RPC).\\nExperience working with API Frameworks (Django/flask).\\nExperience evaluating and improving the efficiency of programs in a Linux environment.\\nAbility to effectively handle multiple tasks with a high level of accuracy and attention to detail.\\nGood verbal and written communication skills.\\nWorking knowledge of SQL.\\nJSON experience preferred.\\nGood knowledge in automated unit testing using PyUnit.</td>\n",
       "    </tr>\n",
       "    <tr>\n",
       "      <th>2</th>\n",
       "      <td>2</td>\n",
       "      <td>Machine Learning</td>\n",
       "      <td>Data Scientist (Contractor)\\n\\nBangalore, IN\\n\\nResponsibilities\\n\\nWe are looking for a capable data scientist to join the Analytics team, reporting locally in India Bangalore. This person’s responsibilities include research, design and development of Machine Learning and Deep Learning algorithms to tackle a variety of Fraud oriented challenges. The data scientist will work closely with software engineers and program managers to deliver end-to-end products, including: data collection in big scale and analysis, exploring different algorithmic approaches, model development, assessment and validation – all the way through production.\\n\\nQualifications\\n\\nAt least 3 years of hands-on development of complex Machine Learning models using modern frameworks and tools, ideally Python based.\\nS...</td>\n",
       "    </tr>\n",
       "    <tr>\n",
       "      <th>3</th>\n",
       "      <td>3</td>\n",
       "      <td>iOS Developer</td>\n",
       "      <td>JOB DESCRIPTION:\\n\\nStrong framework outside of iOS is always a plus\\n\\niOS experience and generalist engineers with backgrounds in related technologies is a plus\\n\\nA disciplined approach to development, documentation and file structure\\n\\nStrong visual design sense and excellent taste\\n\\nA constant desire to improve, learn more and take things higher\\n\\nAn excellent understanding of networking, mobile network issues, concurrency and threading\\n\\nExperience working with internationalized apps\\n\\nRESPONSIBILITIES\\nDesign and build advanced applications for the iOS platform.\\nCollaborate with cross-functional teams to define, design, and ship new features..\\nWork on bug fixing and improving application performance.\\nContinuously discover, evaluate, and implement new technologies to maxi...</td>\n",
       "    </tr>\n",
       "    <tr>\n",
       "      <th>4</th>\n",
       "      <td>4</td>\n",
       "      <td>Full Stack Developer</td>\n",
       "      <td>job responsibility full stack engineer – react role make impact petsmart transforming engineering team meet need rapidly changing retail environment role foundational helping build craft petsmart ’ prowess making react j native key framework across mobile web property working across web mobile application part building amazing mobile first customer experience impact customer store digital channel goal responsibility include act full stack developer across petsmart ’ various web mobile solution full stack engineer help build petsmart ’ competency using react j native across mobile web property partner web engineering team strategy share component across application best practice new advancement react community work product ux team review design concept offer suggestion decrease complexi...</td>\n",
       "    </tr>\n",
       "  </tbody>\n",
       "</table>\n",
       "</div>"
      ],
      "text/plain": [
       "   Unnamed: 0             Job Title  \\\n",
       "0           0     Flutter Developer   \n",
       "1           1      Django Developer   \n",
       "2           2      Machine Learning   \n",
       "3           3         iOS Developer   \n",
       "4           4  Full Stack Developer   \n",
       "\n",
       "                                                                                                                                                                                                                                                                                                                                                                                                                                                                                                                                                                                                                                                                                                                                                                                                                   Job Description  \n",
       "0                                                                                                                                                                                                                                                                                                                                                                  We are looking for hire experts flutter developer. So you are eligible this post then apply your resume.\\nJob Types: Full-time, Part-time\\nSalary: ₹20,000.00 - ₹40,000.00 per month\\nBenefits:\\nFlexible schedule\\nFood allowance\\nSchedule:\\nDay shift\\nSupplemental Pay:\\nJoining bonus\\nOvertime pay\\nExperience:\\ntotal work: 1 year (Preferred)\\nHousing rent subsidy:\\nYes\\nIndustry:\\nSoftware Development\\nWork Remotely:\\nTemporarily due to COVID-19  \n",
       "1                                                                                                                                                                                                                                                                                                  PYTHON/DJANGO (Developer/Lead) - Job Code(PDJ - 04)\\nStrong Python experience in API development (REST/RPC).\\nExperience working with API Frameworks (Django/flask).\\nExperience evaluating and improving the efficiency of programs in a Linux environment.\\nAbility to effectively handle multiple tasks with a high level of accuracy and attention to detail.\\nGood verbal and written communication skills.\\nWorking knowledge of SQL.\\nJSON experience preferred.\\nGood knowledge in automated unit testing using PyUnit.  \n",
       "2  Data Scientist (Contractor)\\n\\nBangalore, IN\\n\\nResponsibilities\\n\\nWe are looking for a capable data scientist to join the Analytics team, reporting locally in India Bangalore. This person’s responsibilities include research, design and development of Machine Learning and Deep Learning algorithms to tackle a variety of Fraud oriented challenges. The data scientist will work closely with software engineers and program managers to deliver end-to-end products, including: data collection in big scale and analysis, exploring different algorithmic approaches, model development, assessment and validation – all the way through production.\\n\\nQualifications\\n\\nAt least 3 years of hands-on development of complex Machine Learning models using modern frameworks and tools, ideally Python based.\\nS...  \n",
       "3  JOB DESCRIPTION:\\n\\nStrong framework outside of iOS is always a plus\\n\\niOS experience and generalist engineers with backgrounds in related technologies is a plus\\n\\nA disciplined approach to development, documentation and file structure\\n\\nStrong visual design sense and excellent taste\\n\\nA constant desire to improve, learn more and take things higher\\n\\nAn excellent understanding of networking, mobile network issues, concurrency and threading\\n\\nExperience working with internationalized apps\\n\\nRESPONSIBILITIES\\nDesign and build advanced applications for the iOS platform.\\nCollaborate with cross-functional teams to define, design, and ship new features..\\nWork on bug fixing and improving application performance.\\nContinuously discover, evaluate, and implement new technologies to maxi...  \n",
       "4  job responsibility full stack engineer – react role make impact petsmart transforming engineering team meet need rapidly changing retail environment role foundational helping build craft petsmart ’ prowess making react j native key framework across mobile web property working across web mobile application part building amazing mobile first customer experience impact customer store digital channel goal responsibility include act full stack developer across petsmart ’ various web mobile solution full stack engineer help build petsmart ’ competency using react j native across mobile web property partner web engineering team strategy share component across application best practice new advancement react community work product ux team review design concept offer suggestion decrease complexi...  "
      ]
     },
     "execution_count": 21,
     "metadata": {},
     "output_type": "execute_result"
    }
   ],
   "source": [
    "job.head()"
   ]
  },
  {
   "cell_type": "code",
   "execution_count": 22,
   "metadata": {},
   "outputs": [],
   "source": [
    "#By peeking into the text, we notice that there are non-alphanumeric characters, numbers, and backslashes that need to be cleaned in the text."
   ]
  },
  {
   "cell_type": "code",
   "execution_count": 23,
   "metadata": {},
   "outputs": [
    {
     "data": {
      "text/plain": [
       "(962, 2)"
      ]
     },
     "execution_count": 23,
     "metadata": {},
     "output_type": "execute_result"
    }
   ],
   "source": [
    "resume.shape"
   ]
  },
  {
   "cell_type": "code",
   "execution_count": 24,
   "metadata": {},
   "outputs": [
    {
     "data": {
      "text/plain": [
       "(2277, 3)"
      ]
     },
     "execution_count": 24,
     "metadata": {},
     "output_type": "execute_result"
    }
   ],
   "source": [
    "job.shape"
   ]
  },
  {
   "cell_type": "code",
   "execution_count": 25,
   "metadata": {},
   "outputs": [
    {
     "data": {
      "text/plain": [
       "(Index(['Category', 'Resume'], dtype='object'),\n",
       " Index(['Unnamed: 0', 'Job Title', 'Job Description'], dtype='object'))"
      ]
     },
     "execution_count": 25,
     "metadata": {},
     "output_type": "execute_result"
    }
   ],
   "source": [
    "resume.columns , job.columns"
   ]
  },
  {
   "cell_type": "code",
   "execution_count": null,
   "metadata": {},
   "outputs": [],
   "source": []
  },
  {
   "cell_type": "code",
   "execution_count": null,
   "metadata": {},
   "outputs": [],
   "source": []
  },
  {
   "cell_type": "code",
   "execution_count": null,
   "metadata": {},
   "outputs": [],
   "source": []
  }
 ],
 "metadata": {
  "kernelspec": {
   "display_name": "Python 3",
   "language": "python",
   "name": "python3"
  },
  "language_info": {
   "codemirror_mode": {
    "name": "ipython",
    "version": 3
   },
   "file_extension": ".py",
   "mimetype": "text/x-python",
   "name": "python",
   "nbconvert_exporter": "python",
   "pygments_lexer": "ipython3",
   "version": "3.9.13"
  }
 },
 "nbformat": 4,
 "nbformat_minor": 2
}
