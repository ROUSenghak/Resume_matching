{
 "cells": [
  {
   "cell_type": "code",
   "execution_count": 19,
   "metadata": {},
   "outputs": [],
   "source": [
    "import joblib\n",
    "import pdfplumber\n",
    "import re\n",
    "import spacy\n",
    "import numpy as np\n",
    "import pickle\n",
    "from nltk.corpus import stopwords\n",
    "from nltk.tokenize import word_tokenize"
   ]
  },
  {
   "cell_type": "code",
   "execution_count": 20,
   "metadata": {},
   "outputs": [],
   "source": [
    "# Load the saved model and vectorizer\n",
    "bc = pickle.load(open('/Users/macbookair/Desktop/project/Resume_Analyser/resume-job-matching/models/bc_model.pkl', 'rb'))\n",
    "lgr = pickle.load(open('/Users/macbookair/Desktop/project/Resume_Analyser/resume-job-matching/models/lgr_model.pkl', 'rb'))\n",
    "# xgb = pickle.load(open('/Users/macbookair/Desktop/project/Resume_Analyser/resume-job-matching/models/xgb_model.pkl', 'rb'))\n",
    "\n",
    "tfidf = pickle.load(open('/Users/macbookair/Desktop/project/Resume_Analyser/resume-job-matching/models/resume_tfidf_vectorizer.pkl', 'rb'))"
   ]
  },
  {
   "cell_type": "code",
   "execution_count": 21,
   "metadata": {},
   "outputs": [],
   "source": [
    "nlp = spacy.load('en_core_web_sm')"
   ]
  },
  {
   "cell_type": "code",
   "execution_count": 22,
   "metadata": {},
   "outputs": [],
   "source": [
    "def cleanText(text):\n",
    "\n",
    "    if not isinstance(text, str):\n",
    "        return ''\n",
    "\n",
    "    text = re.sub(r'[^a-zA-Z0-9\\s+]', '', text)\n",
    "    text = re.sub(r'\\S+@\\S+', '', text)\n",
    "    text = re.sub(r'\\d{10,}', '', text) \n",
    "    text = re.sub('\\s+', ' ', text)\n",
    "    return text.lower()"
   ]
  },
  {
   "cell_type": "code",
   "execution_count": 23,
   "metadata": {},
   "outputs": [],
   "source": [
    "def lemmatize_tokens(tokens):\n",
    "    doc = nlp(' '.join(tokens))\n",
    "    return [token.lemma_ for token in doc]"
   ]
  },
  {
   "cell_type": "code",
   "execution_count": 24,
   "metadata": {},
   "outputs": [],
   "source": [
    "DOMAIN_SPECIFIC_STOPWORDS = ['resume', 'job', 'candidate', 'apply', 'experience', 'skills']\n",
    "stop_words = set(stopwords.words('english')).union(DOMAIN_SPECIFIC_STOPWORDS)\n",
    "\n",
    "def remove_stopwords_from_tokens(tokens):\n",
    "    return [word for word in tokens if word.lower() not in stop_words]"
   ]
  },
  {
   "cell_type": "code",
   "execution_count": 25,
   "metadata": {},
   "outputs": [],
   "source": [
    "def extract_text_from_pdf(pdf_path):\n",
    "    \"\"\"Extract text from a single PDF file.\"\"\"\n",
    "    try:\n",
    "        with pdfplumber.open(pdf_path) as pdf:\n",
    "            full_text = ''\n",
    "            for page in pdf.pages:\n",
    "                full_text += page.extract_text() or ''  # Extract text from all pages\n",
    "            return full_text.strip()  # Clean up whitespace\n",
    "    except Exception as e:\n",
    "        print(f\"Error reading {pdf_path}: {e}\")\n",
    "        return ''"
   ]
  },
  {
   "cell_type": "code",
   "execution_count": 26,
   "metadata": {},
   "outputs": [],
   "source": [
    "resume = '/Users/macbookair/Desktop/project/Resume_Analyser/resume-job-matching/data/Resume/resume_en.pdf'"
   ]
  },
  {
   "cell_type": "code",
   "execution_count": 27,
   "metadata": {},
   "outputs": [],
   "source": [
    "extracted_text = extract_text_from_pdf(resume)\n",
    "cleaned_resume = cleanText(extracted_text)"
   ]
  },
  {
   "cell_type": "code",
   "execution_count": 28,
   "metadata": {},
   "outputs": [
    {
     "data": {
      "text/plain": [
       "'Senghak ROU\\nsenghak.rou@ensae.fr # (+33) 668 933 288 (cid:131) www.linkedin.com/in/rousenghak (cid:239)\\nI am actively seeking a 2-3 months internship in data analyst, machine learning and statistics starting in June\\n2025.\\nFormation\\nENSAE Paris 2023 – Present\\nEngineering diploma in Data science, Statistics, and Economics.\\n• Courses taken: Functional and convex analysis, Mathematical foundations of probability, Optimization, Statistics,\\nMacroeconomics, Microeconomics, Algorithms and programming in Python, Univariate descriptive statistics with\\nSAS, ...\\nInstitute of Technology of Cambodia (ITC) 2020 – 2023\\nEngineering program: 3 years of formation in mathematics, physics, and computer science\\nExperience\\nRSL Global Logistics Co., Ltd | Intern, IT Support Jul. 2024 – Aug. 2024\\nCompleted a six-week exploratory internship at RSL Global Logistics, where I provided IT support and resolved\\ntechnical issues across various departments.\\nAXK | Tutor, Mathematics Jan. 2023 – May. 2023\\nProvided Mathemaics and preparation courses (IP Paris) to 1st and 2nd year students at ITC\\nITC | Tutor, Physics Mar. 2022 – Aug. 2022\\nProvided Physics (M´ecanique et Thermodynamique) courses to freshmen students at ITC during my second-year study\\nAcademic Projects\\nResume Classification and Job Matching | Machine Learning, NLP, Python Nov. 2024 – Dec. 2024\\n• Developed a machine learning-based web application to calculate resume-job matching scores, classify resumes, and\\nrecommend job matches using TF-IDF and classification models.\\nApplied Statistics Project | PCA, R studio Mar. 2024\\n• Conducted a PCA analysis to identify countries with distinct socio-economic positions and determine key indicators\\nshaping the global economic landscape.\\nUnivariate descriptive statistics with SAS | SAS Sep. 2023\\n• Investigates the relationship between mental well-being and social openness, finding a moderate correlation based\\non data from the European Social Survey(ESS).\\nAlgorithms and Data structure | C++, File I/O, VS Code, GitHub Jan. 2022 – Jul. 2022\\n• Build a interactive database to store student information and enabling search and display of tuition payment data\\n(name, ID, date, year, method, etc.).\\nLanguage and Skills\\nProgramming: Python, R, SQL, C++ Languages:\\nTools: Git/GitHub, Notebook, VS Code, LATEX Khmer: Mother tongue English: C1 French: B1\\nPrizes and Awards\\n- 2023 Obtain the Eiffel scholarship from the French government to pursue studies at ENSAE Paris\\n- 2022 Awarded from Sumitomo Corperation as the outstanding student in university(ITC).Volunteering\\n• Active member at Association des Polytechniciens Khmers (AXK)\\nInteresting Center\\nSport: Badminton Art: Portrait drawing Leisure: Cooking, walking'"
      ]
     },
     "execution_count": 28,
     "metadata": {},
     "output_type": "execute_result"
    }
   ],
   "source": [
    "extracted_text"
   ]
  },
  {
   "cell_type": "code",
   "execution_count": 29,
   "metadata": {},
   "outputs": [],
   "source": [
    "tokens = word_tokenize(cleaned_resume)\n",
    "tokens = remove_stopwords_from_tokens(tokens)\n",
    "lemmatized_tokens = lemmatize_tokens(tokens)"
   ]
  },
  {
   "cell_type": "code",
   "execution_count": 30,
   "metadata": {},
   "outputs": [
    {
     "data": {
      "text/plain": [
       "['senghak',\n",
       " 'rou',\n",
       " 'senghakrouensaefr',\n",
       " '+33',\n",
       " '668',\n",
       " '933',\n",
       " '288',\n",
       " 'cid131',\n",
       " 'wwwlinkedincominrousenghak',\n",
       " 'cid239',\n",
       " 'actively',\n",
       " 'seek',\n",
       " '23',\n",
       " 'month',\n",
       " 'internship',\n",
       " 'data',\n",
       " 'analyst',\n",
       " 'machine',\n",
       " 'learn',\n",
       " 'statistic',\n",
       " 'start',\n",
       " 'june',\n",
       " '2025',\n",
       " 'formation',\n",
       " 'ensae',\n",
       " 'paris',\n",
       " '2023',\n",
       " 'present',\n",
       " 'engineering',\n",
       " 'diploma',\n",
       " 'datum',\n",
       " 'science',\n",
       " 'statistics',\n",
       " 'economic',\n",
       " 'course',\n",
       " 'take',\n",
       " 'functional',\n",
       " 'convex',\n",
       " 'analysis',\n",
       " 'mathematical',\n",
       " 'foundations',\n",
       " 'probability',\n",
       " 'optimization',\n",
       " 'statistics',\n",
       " 'macroeconomic',\n",
       " 'microeconomics',\n",
       " 'algorithm',\n",
       " 'programming',\n",
       " 'python',\n",
       " 'univariate',\n",
       " 'descriptive',\n",
       " 'statistic',\n",
       " 'sas',\n",
       " 'institute',\n",
       " 'technology',\n",
       " 'cambodia',\n",
       " 'itc',\n",
       " '2020',\n",
       " '2023',\n",
       " 'engineering',\n",
       " 'program',\n",
       " '3',\n",
       " 'year',\n",
       " 'formation',\n",
       " 'mathematics',\n",
       " 'physics',\n",
       " 'computer',\n",
       " 'science',\n",
       " 'rsl',\n",
       " 'global',\n",
       " 'logistics',\n",
       " 'co',\n",
       " 'ltd',\n",
       " 'intern',\n",
       " 'support',\n",
       " 'jul',\n",
       " '2024',\n",
       " 'aug',\n",
       " '2024',\n",
       " 'complete',\n",
       " 'sixweek',\n",
       " 'exploratory',\n",
       " 'internship',\n",
       " 'rsl',\n",
       " 'global',\n",
       " 'logistic',\n",
       " 'provide',\n",
       " 'support',\n",
       " 'resolve',\n",
       " 'technical',\n",
       " 'issue',\n",
       " 'across',\n",
       " 'various',\n",
       " 'department',\n",
       " 'axk',\n",
       " 'tutor',\n",
       " 'mathematics',\n",
       " 'jan',\n",
       " '2023',\n",
       " 'may',\n",
       " '2023',\n",
       " 'provide',\n",
       " 'mathemaic',\n",
       " 'preparation',\n",
       " 'course',\n",
       " 'ip',\n",
       " 'paris',\n",
       " '1st',\n",
       " '2nd',\n",
       " 'year',\n",
       " 'student',\n",
       " 'itc',\n",
       " 'itc',\n",
       " 'tutor',\n",
       " 'physics',\n",
       " 'mar',\n",
       " '2022',\n",
       " 'aug',\n",
       " '2022',\n",
       " 'provide',\n",
       " 'physics',\n",
       " 'mecanique',\n",
       " 'et',\n",
       " 'thermodynamique',\n",
       " 'course',\n",
       " 'freshman',\n",
       " 'student',\n",
       " 'itc',\n",
       " 'secondyear',\n",
       " 'study',\n",
       " 'academic',\n",
       " 'project',\n",
       " 'classification',\n",
       " 'matching',\n",
       " 'machine',\n",
       " 'learn',\n",
       " 'nlp',\n",
       " 'python',\n",
       " 'nov',\n",
       " '2024',\n",
       " 'dec',\n",
       " '2024',\n",
       " 'develop',\n",
       " 'machine',\n",
       " 'learningbase',\n",
       " 'web',\n",
       " 'application',\n",
       " 'calculate',\n",
       " 'resumejob',\n",
       " 'matching',\n",
       " 'score',\n",
       " 'classify',\n",
       " 'resume',\n",
       " 'recommend',\n",
       " 'match',\n",
       " 'use',\n",
       " 'tfidf',\n",
       " 'classification',\n",
       " 'model',\n",
       " 'apply',\n",
       " 'statistic',\n",
       " 'project',\n",
       " 'pca',\n",
       " 'r',\n",
       " 'studio',\n",
       " 'mar',\n",
       " '2024',\n",
       " 'conduct',\n",
       " 'pca',\n",
       " 'analysis',\n",
       " 'identify',\n",
       " 'country',\n",
       " 'distinct',\n",
       " 'socioeconomic',\n",
       " 'position',\n",
       " 'determine',\n",
       " 'key',\n",
       " 'indicator',\n",
       " 'shape',\n",
       " 'global',\n",
       " 'economic',\n",
       " 'landscape',\n",
       " 'univariate',\n",
       " 'descriptive',\n",
       " 'statistic',\n",
       " 'sas',\n",
       " 'sas',\n",
       " 'sep',\n",
       " '2023',\n",
       " 'investigate',\n",
       " 'relationship',\n",
       " 'mental',\n",
       " 'wellbee',\n",
       " 'social',\n",
       " 'openness',\n",
       " 'find',\n",
       " 'moderate',\n",
       " 'correlation',\n",
       " 'base',\n",
       " 'datum',\n",
       " 'european',\n",
       " 'social',\n",
       " 'surveyess',\n",
       " 'algorithm',\n",
       " 'datum',\n",
       " 'structure',\n",
       " 'c++',\n",
       " 'file',\n",
       " 'io',\n",
       " 'vs',\n",
       " 'code',\n",
       " 'github',\n",
       " 'jan',\n",
       " '2022',\n",
       " 'jul',\n",
       " '2022',\n",
       " 'build',\n",
       " 'interactive',\n",
       " 'database',\n",
       " 'store',\n",
       " 'student',\n",
       " 'information',\n",
       " 'enable',\n",
       " 'search',\n",
       " 'display',\n",
       " 'tuition',\n",
       " 'payment',\n",
       " 'datum',\n",
       " 'name',\n",
       " 'i',\n",
       " 'd',\n",
       " 'date',\n",
       " 'year',\n",
       " 'method',\n",
       " 'etc',\n",
       " 'language',\n",
       " 'programming',\n",
       " 'python',\n",
       " 'r',\n",
       " 'sql',\n",
       " 'c++',\n",
       " 'language',\n",
       " 'tool',\n",
       " 'gitgithub',\n",
       " 'notebook',\n",
       " 'vs',\n",
       " 'code',\n",
       " 'latex',\n",
       " 'khmer',\n",
       " 'mother',\n",
       " 'tongue',\n",
       " 'english',\n",
       " 'c1',\n",
       " 'french',\n",
       " 'b1',\n",
       " 'prize',\n",
       " 'award',\n",
       " '2023',\n",
       " 'obtain',\n",
       " 'eiffel',\n",
       " 'scholarship',\n",
       " 'french',\n",
       " 'government',\n",
       " 'pursue',\n",
       " 'study',\n",
       " 'ensae',\n",
       " 'paris',\n",
       " '2022',\n",
       " 'award',\n",
       " 'sumitomo',\n",
       " 'corperation',\n",
       " 'outstanding',\n",
       " 'student',\n",
       " 'universityitcvolunteere',\n",
       " 'active',\n",
       " 'member',\n",
       " 'association',\n",
       " 'des',\n",
       " 'polytechniciens',\n",
       " 'khmer',\n",
       " 'axk',\n",
       " 'interesting',\n",
       " 'center',\n",
       " 'sport',\n",
       " 'badminton',\n",
       " 'art',\n",
       " 'portrait',\n",
       " 'draw',\n",
       " 'leisure',\n",
       " 'cooking',\n",
       " 'walk']"
      ]
     },
     "execution_count": 30,
     "metadata": {},
     "output_type": "execute_result"
    }
   ],
   "source": [
    "lemmatized_tokens"
   ]
  },
  {
   "cell_type": "code",
   "execution_count": 31,
   "metadata": {},
   "outputs": [],
   "source": [
    "final_resume_text = ' '.join(lemmatized_tokens)"
   ]
  },
  {
   "cell_type": "code",
   "execution_count": 32,
   "metadata": {},
   "outputs": [],
   "source": [
    "resume_vectorized = tfidf.transform([final_resume_text])"
   ]
  },
  {
   "cell_type": "code",
   "execution_count": 33,
   "metadata": {},
   "outputs": [],
   "source": [
    "bc_prediction = bc.predict(resume_vectorized)[0]\n",
    "lgr_prediction = lgr.predict(resume_vectorized)[0]\n",
    "# xgb_prediction = xgb.predict(resume_vectorized)[0]"
   ]
  },
  {
   "cell_type": "code",
   "execution_count": 34,
   "metadata": {},
   "outputs": [],
   "source": [
    "category_mapping = {0: 'accountant', 1: 'advocate', 2: 'agriculture', 3: 'apparel', 4: 'arts', 5: 'automation testing', 6: 'automobile', 7: 'aviation', 8: 'banking', 9: 'blockchain', 10: 'bpo', 11: 'business analyst', 12: 'business-development', 13: 'chef', 14: 'civil engineer', 15: 'construction', 16: 'consultant', 17: 'data science', 18: 'database', 19: 'designer', 20: 'devops engineer', 21: 'digital-media', 22: 'dotnet developer', 23: 'electrical engineering', 24: 'engineering', 25: 'etl developer', 26: 'finance', 27: 'fitness', 28: 'hadoop', 29: 'health and fitness', 30: 'healthcare', 31: 'hr', 32: 'information-technology', 33: 'java developer', 34: 'mechanical engineer', 35: 'network security engineer', 36: 'operations manager', 37: 'pmo', 38: 'public-relations', 39: 'python developer', 40: 'sales', 41: 'sap developer', 42: 'teacher', 43: 'testing', 44: 'web designing'}"
   ]
  },
  {
   "cell_type": "code",
   "execution_count": 35,
   "metadata": {},
   "outputs": [
    {
     "name": "stdout",
     "output_type": "stream",
     "text": [
      "Predicted Category: engineering\n",
      "24\n"
     ]
    }
   ],
   "source": [
    "#Bagging Classifier\n",
    "\n",
    "category_name = category_mapping.get(bc_prediction, \"Unknown\")\n",
    "\n",
    "print(\"Predicted Category:\", category_name)\n",
    "print(bc_prediction)"
   ]
  },
  {
   "cell_type": "code",
   "execution_count": null,
   "metadata": {},
   "outputs": [],
   "source": []
  },
  {
   "cell_type": "code",
   "execution_count": 36,
   "metadata": {},
   "outputs": [
    {
     "name": "stdout",
     "output_type": "stream",
     "text": [
      "Predicted Category: engineering\n",
      "24\n"
     ]
    }
   ],
   "source": [
    "#Logistic Regression\n",
    "\n",
    "category_name = category_mapping.get(lgr_prediction, \"Unknown\")\n",
    "\n",
    "print(\"Predicted Category:\", category_name)\n",
    "print(lgr_prediction)"
   ]
  },
  {
   "cell_type": "code",
   "execution_count": null,
   "metadata": {},
   "outputs": [],
   "source": []
  },
  {
   "cell_type": "code",
   "execution_count": 37,
   "metadata": {},
   "outputs": [],
   "source": [
    "#XGBoost Classifier\n",
    "\n",
    "# category_name = category_mapping.get(xgb_prediction, \"Unknown\")\n",
    "\n",
    "# print(\"Predicted Category:\", category_name)\n",
    "# print(xgb_prediction)"
   ]
  }
 ],
 "metadata": {
  "kernelspec": {
   "display_name": "conda",
   "language": "python",
   "name": "python3"
  },
  "language_info": {
   "codemirror_mode": {
    "name": "ipython",
    "version": 3
   },
   "file_extension": ".py",
   "mimetype": "text/x-python",
   "name": "python",
   "nbconvert_exporter": "python",
   "pygments_lexer": "ipython3",
   "version": "3.11.10"
  }
 },
 "nbformat": 4,
 "nbformat_minor": 2
}
