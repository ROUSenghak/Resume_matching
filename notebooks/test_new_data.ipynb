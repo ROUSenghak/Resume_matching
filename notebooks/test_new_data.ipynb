{
 "cells": [
  {
   "cell_type": "code",
   "execution_count": 19,
   "metadata": {},
   "outputs": [],
   "source": [
    "import joblib\n",
    "import pdfplumber\n",
    "import re\n",
    "import spacy\n",
    "import numpy as np\n",
    "import pickle\n",
    "from nltk.corpus import stopwords\n",
    "from nltk.tokenize import word_tokenize"
   ]
  },
  {
   "cell_type": "code",
   "execution_count": 20,
   "metadata": {},
   "outputs": [],
   "source": [
    "# Load the saved model and vectorizer\n",
    "bc = pickle.load(open('/Users/macbookair/Desktop/project/Resume_Analyser/resume-job-matching/models/bc_model.pkl', 'rb'))\n",
    "lgr = pickle.load(open('/Users/macbookair/Desktop/project/Resume_Analyser/resume-job-matching/models/lgr_model.pkl', 'rb'))\n",
    "xgb = pickle.load(open('/Users/macbookair/Desktop/project/Resume_Analyser/resume-job-matching/models/xgb_model.pkl', 'rb'))\n",
    "\n",
    "tfidf = pickle.load(open('/Users/macbookair/Desktop/project/Resume_Analyser/resume-job-matching/models/resume_tfidf_vectorizer.pkl', 'rb'))"
   ]
  },
  {
   "cell_type": "code",
   "execution_count": 21,
   "metadata": {},
   "outputs": [],
   "source": [
    "nlp = spacy.load('en_core_web_sm')"
   ]
  },
  {
   "cell_type": "code",
   "execution_count": 22,
   "metadata": {},
   "outputs": [],
   "source": [
    "def cleanText(text):\n",
    "\n",
    "    if not isinstance(text, str):\n",
    "        return ''\n",
    "\n",
    "    text = re.sub(r'[^a-zA-Z0-9\\s+]', '', text)\n",
    "    text = re.sub(r'\\S+@\\S+', '', text)\n",
    "    text = re.sub(r'\\d{10,}', '', text) \n",
    "    text = re.sub('\\s+', ' ', text)\n",
    "    return text.lower()"
   ]
  },
  {
   "cell_type": "code",
   "execution_count": 23,
   "metadata": {},
   "outputs": [],
   "source": [
    "def lemmatize_tokens(tokens):\n",
    "    doc = nlp(' '.join(tokens))\n",
    "    return [token.lemma_ for token in doc]"
   ]
  },
  {
   "cell_type": "code",
   "execution_count": 24,
   "metadata": {},
   "outputs": [],
   "source": [
    "DOMAIN_SPECIFIC_STOPWORDS = ['resume', 'job', 'candidate', 'apply', 'experience', 'skills']\n",
    "stop_words = set(stopwords.words('english')).union(DOMAIN_SPECIFIC_STOPWORDS)\n",
    "\n",
    "def remove_stopwords_from_tokens(tokens):\n",
    "    return [word for word in tokens if word.lower() not in stop_words]"
   ]
  },
  {
   "cell_type": "code",
   "execution_count": 25,
   "metadata": {},
   "outputs": [],
   "source": [
    "def extract_text_from_pdf(pdf_path):\n",
    "    \"\"\"Extract text from a single PDF file.\"\"\"\n",
    "    try:\n",
    "        with pdfplumber.open(pdf_path) as pdf:\n",
    "            full_text = ''\n",
    "            for page in pdf.pages:\n",
    "                full_text += page.extract_text() or ''  # Extract text from all pages\n",
    "            return full_text.strip()  # Clean up whitespace\n",
    "    except Exception as e:\n",
    "        print(f\"Error reading {pdf_path}: {e}\")\n",
    "        return ''"
   ]
  },
  {
   "cell_type": "code",
   "execution_count": 26,
   "metadata": {},
   "outputs": [],
   "source": [
    "resume = '/Users/macbookair/Desktop/project/Resume_Analyser/resume-job-matching/data/Resume/Chef_resume.pdf'"
   ]
  },
  {
   "cell_type": "code",
   "execution_count": 27,
   "metadata": {},
   "outputs": [],
   "source": [
    "extracted_text = extract_text_from_pdf(resume)\n",
    "cleaned_resume = cleanText(extracted_text)"
   ]
  },
  {
   "cell_type": "code",
   "execution_count": 28,
   "metadata": {},
   "outputs": [
    {
     "data": {
      "text/plain": [
       "'Charles Mathews\\nChef\\nAREAS OF EXPERTISE PERSONAL SUMMARY\\nSeasonal dishes A calm, pleasant, helpful and hardworking individual who has a passion for great\\nfood and who enjoys cooking mouth watering dishes. Charles gets a real buzz out of\\nCooking methods working in a busy kitchen, and great pleasure out of seeing happy faces enjoying a\\ngood meal that he has cooked. As a natural leader he is not only able to give orders\\nImplementing recipes\\nand delegate tasks, but is also able to reliably carry out orders as well. As a\\nexperienced Chef he has a proven track record of making great food that will entice\\nPreparing meals\\ndiners and leave them wanting more. He loves the freedom of expression that\\nFood prepara tion cooking gives him and is willing to work hard to build a career in the culinary\\nworld. Right now he is looking for a suitable position with a company that wants to\\nContract cate ring recruit talented and enthusiastic individuals.\\nBaking skills\\nCAREER HISTORY\\nFood costing s\\nRestaurant - Coventry\\nStaff supervision CHEF April 2009 - Present\\nWorking as part of a team of highly motivated Chefs. Responsible for the efficient\\nSpecial diets\\nrunning of the kitchen area, and directly in charge of the overall preparation of all the\\nfood which is served in the dining hall and cafeteria.\\nDuties:\\nPROFESSIONAL\\n\\uf0b7 Cooking up tasty, nutritious and well balanced meals for customers.\\n\\uf0b7 Assisting in the basic preparation of food under the supervision of the Head Chef.\\nBasic Food Hygiene\\n\\uf0b7 Deciding on the quantities of food to be cooked and size of portions to be served.\\ncertificate\\n\\uf0b7 Creating dishes for clients with special dietary or cultural needs.\\n\\uf0b7 Making sure that kitchen staff always wear appropriate clothing and head wear in\\nFirst Aider\\naccordance with the relevant guidelines.\\n\\uf0b7 Negotiating with sales representatives on the price of orders and supplies.\\nGerman speak er \\uf0b7 Maintaining the correct level of fresh, frozen and dried foods in the store room.\\nHospital Kitchen - Manchester\\nPERSONAL SKILLS TRAINEE LINE COOK May 2008 – March 2009\\nCreative flair KEY SKILLS AND COMPETENCIES\\nS elf motivated Culinary attributes\\n\\uf0b7 Strong desire to instil good practice and procedures in those working with you.\\nDetermined to learn \\uf0b7 Mentoring, training and supporting junior chefs.\\n\\uf0b7 Ability to bring creative and commercially viable new lines to the market before any\\nGood communicator competitors do.\\n\\uf0b7 Physically fit and able to lift heavy goods and stand for long periods of time.\\n\\uf0b7 Able to communicate well with both superiors and subordinates.\\n\\uf0b7 Can accurately estimate food and labour costs.\\nPERSONAL DETAILS\\n\\uf0b7 Enforcing strict health and hygiene standards in the cooking & food preparation area.\\nCharles Mathews\\nDayjob Ltd ACADEMIC QUALIFICATIONS\\nThe Big Peg\\nBirmingham\\nBirmingham North University 2005 - 2008\\nB18 6NF\\nProfessional Culinary Arts BA (Hons)\\nT: 0870 061 0121\\nM: 0087 222 9999\\nE: info@dayjob.com Birmingham South College 2003 - 2005\\nA Levels: Maths (B) English (A) Physic (C) Geography (A)\\nDriving license: Yes\\nNationality: British REFERENCES – Available on request.'"
      ]
     },
     "execution_count": 28,
     "metadata": {},
     "output_type": "execute_result"
    }
   ],
   "source": [
    "extracted_text"
   ]
  },
  {
   "cell_type": "code",
   "execution_count": 29,
   "metadata": {},
   "outputs": [],
   "source": [
    "tokens = word_tokenize(cleaned_resume)\n",
    "tokens = remove_stopwords_from_tokens(tokens)\n",
    "lemmatized_tokens = lemmatize_tokens(tokens)"
   ]
  },
  {
   "cell_type": "code",
   "execution_count": 30,
   "metadata": {},
   "outputs": [],
   "source": [
    "final_resume_text = ' '.join(lemmatized_tokens)"
   ]
  },
  {
   "cell_type": "code",
   "execution_count": 31,
   "metadata": {},
   "outputs": [],
   "source": [
    "resume_vectorized = tfidf.transform([final_resume_text])"
   ]
  },
  {
   "cell_type": "code",
   "execution_count": 32,
   "metadata": {},
   "outputs": [],
   "source": [
    "bc_prediction = bc.predict(resume_vectorized)[0]\n",
    "lgr_prediction = lgr.predict(resume_vectorized)[0]\n",
    "xgb_prediction = xgb.predict(resume_vectorized)[0]"
   ]
  },
  {
   "cell_type": "code",
   "execution_count": 33,
   "metadata": {},
   "outputs": [],
   "source": [
    "category_mapping = {0: 'accountant', 1: 'advocate', 2: 'agriculture', 3: 'apparel', 4: 'arts', 5: 'automation testing', 6: 'automobile', 7: 'aviation', 8: 'banking', 9: 'blockchain', 10: 'bpo', 11: 'business analyst', 12: 'business-development', 13: 'chef', 14: 'civil engineer', 15: 'construction', 16: 'consultant', 17: 'data science', 18: 'database', 19: 'designer', 20: 'devops engineer', 21: 'digital-media', 22: 'dotnet developer', 23: 'electrical engineering', 24: 'engineering', 25: 'etl developer', 26: 'finance', 27: 'fitness', 28: 'hadoop', 29: 'health and fitness', 30: 'healthcare', 31: 'hr', 32: 'information-technology', 33: 'java developer', 34: 'mechanical engineer', 35: 'network security engineer', 36: 'operations manager', 37: 'pmo', 38: 'public-relations', 39: 'python developer', 40: 'sales', 41: 'sap developer', 42: 'teacher', 43: 'testing', 44: 'web designing'}"
   ]
  },
  {
   "cell_type": "code",
   "execution_count": 34,
   "metadata": {},
   "outputs": [
    {
     "name": "stdout",
     "output_type": "stream",
     "text": [
      "Predicted Category: chef\n",
      "13\n"
     ]
    }
   ],
   "source": [
    "#Bagging Classifier\n",
    "\n",
    "category_name = category_mapping.get(bc_prediction, \"Unknown\")\n",
    "\n",
    "print(\"Predicted Category:\", category_name)\n",
    "print(bc_prediction)"
   ]
  },
  {
   "cell_type": "code",
   "execution_count": null,
   "metadata": {},
   "outputs": [],
   "source": []
  },
  {
   "cell_type": "code",
   "execution_count": 35,
   "metadata": {},
   "outputs": [
    {
     "name": "stdout",
     "output_type": "stream",
     "text": [
      "Predicted Category: chef\n",
      "13\n"
     ]
    }
   ],
   "source": [
    "#Logistic Regression\n",
    "\n",
    "category_name = category_mapping.get(lgr_prediction, \"Unknown\")\n",
    "\n",
    "print(\"Predicted Category:\", category_name)\n",
    "print(lgr_prediction)"
   ]
  },
  {
   "cell_type": "code",
   "execution_count": null,
   "metadata": {},
   "outputs": [],
   "source": []
  },
  {
   "cell_type": "code",
   "execution_count": 36,
   "metadata": {},
   "outputs": [
    {
     "name": "stdout",
     "output_type": "stream",
     "text": [
      "Predicted Category: chef\n",
      "13\n"
     ]
    }
   ],
   "source": [
    "#XGBoost Classifier\n",
    "\n",
    "category_name = category_mapping.get(xgb_prediction, \"Unknown\")\n",
    "\n",
    "print(\"Predicted Category:\", category_name)\n",
    "print(xgb_prediction)"
   ]
  }
 ],
 "metadata": {
  "kernelspec": {
   "display_name": "conda",
   "language": "python",
   "name": "python3"
  },
  "language_info": {
   "codemirror_mode": {
    "name": "ipython",
    "version": 3
   },
   "file_extension": ".py",
   "mimetype": "text/x-python",
   "name": "python",
   "nbconvert_exporter": "python",
   "pygments_lexer": "ipython3",
   "version": "3.11.10"
  }
 },
 "nbformat": 4,
 "nbformat_minor": 2
}
