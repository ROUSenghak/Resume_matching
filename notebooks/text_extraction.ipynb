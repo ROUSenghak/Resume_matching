{
 "cells": [
  {
   "cell_type": "code",
   "execution_count": null,
   "metadata": {},
   "outputs": [],
   "source": []
  },
  {
   "cell_type": "code",
   "execution_count": 11,
   "metadata": {},
   "outputs": [],
   "source": [
    "import pdfplumber\n",
    "import os\n",
    "import pandas as pd"
   ]
  },
  {
   "cell_type": "code",
   "execution_count": 12,
   "metadata": {},
   "outputs": [],
   "source": [
    "def extract_text_from_pdf(pdf_path):\n",
    "    \"\"\"Extract text from a single PDF file.\"\"\"\n",
    "    try:\n",
    "        with pdfplumber.open(pdf_path) as pdf:\n",
    "            full_text = ''\n",
    "            for page in pdf.pages:\n",
    "                full_text += page.extract_text() or ''  # Extract text from all pages\n",
    "            return full_text.strip()  # Clean up whitespace\n",
    "    except Exception as e:\n",
    "        print(f\"Error reading {pdf_path}: {e}\")\n",
    "        return ''"
   ]
  },
  {
   "cell_type": "code",
   "execution_count": 13,
   "metadata": {},
   "outputs": [],
   "source": [
    "# Load the existing CSV file\n",
    "csv_file_path = '/Users/macbookair/Desktop/project/Resume_Analyser/resume-job-matching/data/UpdatedResumeDataSet.csv'\n",
    "resume_df = pd.read_csv(csv_file_path)\n",
    "\n",
    "# Ensure columns are present\n",
    "if 'Category' not in resume_df.columns or 'Resume' not in resume_df.columns:\n",
    "    raise ValueError(\"The CSV must have 'Category' and 'Resume' columns.\")\n",
    "\n",
    "# Path to the folder containing category-named subfolders\n",
    "pdf_directory = '/Users/macbookair/Desktop/project/Resume_Analyser/resume-job-matching/data/Raw'\n"
   ]
  },
  {
   "cell_type": "code",
   "execution_count": 14,
   "metadata": {},
   "outputs": [
    {
     "name": "stdout",
     "output_type": "stream",
     "text": [
      "Resume text extraction and CSV update completed!\n"
     ]
    }
   ],
   "source": [
    "# Initialize a dictionary to collect resume data\n",
    "new_data = []\n",
    "\n",
    "# Iterate through category folders\n",
    "for category in os.listdir(pdf_directory):\n",
    "    category_path = os.path.join(pdf_directory, category)\n",
    "    \n",
    "    if os.path.isdir(category_path):  # Check if it's a directory\n",
    "        for pdf_file in os.listdir(category_path):\n",
    "            if pdf_file.endswith('.pdf'):  # Only process PDF files\n",
    "                pdf_path = os.path.join(category_path, pdf_file)\n",
    "                extracted_text = extract_text_from_pdf(pdf_path)\n",
    "                \n",
    "                # Add category and text to the new data list\n",
    "                new_data.append({'Category': category, 'Resume': extracted_text})\n",
    "\n",
    "# Create a DataFrame from the new data\n",
    "new_resume_df = pd.DataFrame(new_data)\n",
    "\n",
    "# Concatenate with the existing DataFrame (if required)\n",
    "resume_df = pd.concat([resume_df, new_resume_df], ignore_index=True)\n",
    "\n",
    "# Save the updated DataFrame to a new CSV\n",
    "updated_csv_path = '/Users/macbookair/Desktop/project/Resume_Analyser/resume-job-matching/data/UpdatedResumeDataSet_with_extracted_text.csv'\n",
    "resume_df.to_csv(updated_csv_path, index=False)\n",
    "print(\"Resume text extraction and CSV update completed!\")"
   ]
  },
  {
   "cell_type": "code",
   "execution_count": null,
   "metadata": {},
   "outputs": [],
   "source": []
  },
  {
   "cell_type": "code",
   "execution_count": 15,
   "metadata": {},
   "outputs": [],
   "source": [
    "update = pd.read_csv('/Users/macbookair/Desktop/project/Resume_Analyser/resume-job-matching/data/UpdatedResumeDataSet_with_extracted_text.csv')"
   ]
  },
  {
   "cell_type": "code",
   "execution_count": 16,
   "metadata": {},
   "outputs": [],
   "source": [
    "pd.set_option('max_colwidth', 800)"
   ]
  },
  {
   "cell_type": "code",
   "execution_count": 17,
   "metadata": {},
   "outputs": [
    {
     "data": {
      "text/plain": [
       "(3446, 2)"
      ]
     },
     "execution_count": 17,
     "metadata": {},
     "output_type": "execute_result"
    }
   ],
   "source": [
    "update.shape"
   ]
  },
  {
   "cell_type": "code",
   "execution_count": 18,
   "metadata": {},
   "outputs": [
    {
     "data": {
      "text/html": [
       "<div>\n",
       "<style scoped>\n",
       "    .dataframe tbody tr th:only-of-type {\n",
       "        vertical-align: middle;\n",
       "    }\n",
       "\n",
       "    .dataframe tbody tr th {\n",
       "        vertical-align: top;\n",
       "    }\n",
       "\n",
       "    .dataframe thead th {\n",
       "        text-align: right;\n",
       "    }\n",
       "</style>\n",
       "<table border=\"1\" class=\"dataframe\">\n",
       "  <thead>\n",
       "    <tr style=\"text-align: right;\">\n",
       "      <th></th>\n",
       "      <th>Category</th>\n",
       "      <th>Resume</th>\n",
       "    </tr>\n",
       "  </thead>\n",
       "  <tbody>\n",
       "    <tr>\n",
       "      <th>3441</th>\n",
       "      <td>AUTOMOBILE</td>\n",
       "      <td>GENERAL LIABILITY CLAIM REPRESENTATIVE\\nSummary\\nClaims Representative who is highly motivated, success driven with several years experience in the insurance industry.Â\\nSkills\\nClaims file management processes\\nLitigation resolution\\nStrong interpersonal and communication skills\\nSelf-directed\\nTeam player\\nCritical thinker\\nExperience\\n01/2008 to 02/2013\\nGeneral Liability Claim Representative Company Name ï¼​ City , State\\nRecognized for continued outstanding customer service - nominated for In-Synch Award Successfully determine coverage and communicate\\nwith insured based on application of policy information, facts and allegations of each case.\\nAggressively investigate, evaluate, reserve, and negotiate assigned claims in accordance with Best Practices.\\nOrganize workflow to mainta...</td>\n",
       "    </tr>\n",
       "    <tr>\n",
       "      <th>3442</th>\n",
       "      <td>AUTOMOBILE</td>\n",
       "      <td>AUTOMOBILE TRANSPORTER\\nProfessional Summary\\nDedicated, responsible Class A driver with a clean driver's license. Self-motivated and customer-focused.Exceptional leader talented at leadership,\\ncommunication, and management skills. Excellent team player with over 20 years of experience in the military and trucking industry.Talented\\nMechanist Tech with more than 8 years of experience developing and executing maintenance programs. Excellent troubleshooting skills. Areas of\\nexpertise include mechanics, technology, and management.\\nKey Skills\\nQuality control Solid communication skills\\nOSHA regulatory compliance Strong organizational skills\\nDependable independent worker Strong work ethic\\nClean D.O.T. Team player\\nGood at following instructions Timely project completion\\nWork Experien...</td>\n",
       "    </tr>\n",
       "    <tr>\n",
       "      <th>3443</th>\n",
       "      <td>AUTOMOBILE</td>\n",
       "      <td>Highlights\\nProg. Languages: C (5+ yrs), Python (3+ yrs), Java (3+ yrs), MATLAB (Simulink) (5+ yrs), R (2 yrs), Processing (2yrs), SQL(4+ yrs),\\nPLC(2 yrs)\\nDoc. Editing: Word/PPT/Excel, Pages/Numbers/Keynote, LATEX\\nMechanical Design: AutoCAD (6 yrs), Solidworks (5+ yrs)\\nMechanical Skills: MakerBot 3D print, Laser cut, Mill, Drill, Lathe Machine.\\nStatistics Softwares: STATA, SPSS\\nDatabase Softwares: SQL Server (4 yrs), Navicat (2 yrs)\\nOperating Systems: Windows 7/10, OS X\\nExperience\\nCompany Name June 2016 to Current R&amp;D Product Development Engineer\\nCity\\nDesign and build a tail-sitter VTOL(vertical take off and landing) UAV(unmanned aerial vehicle) which.\\ntakes off and lands vertically and travels horizontally.\\nMain duties include but not limit to aerodynamics.\\nmodeling, UAV...</td>\n",
       "    </tr>\n",
       "    <tr>\n",
       "      <th>3444</th>\n",
       "      <td>AUTOMOBILE</td>\n",
       "      <td>CUSTOMER RELATIONS SPECIALIST\\nSummary\\nTo obtain a position with a company that offers the chance for me to utilize my call center and customer service skills to the best of my ability. As\\nwell as an opportunity for advancement and a competitive salary. I am a highly personable Call Center Representative with experience in Customer\\nService, Collections, and Call Center Operations.\\nAccomplishments\\nReached monthly sales goals on several occasions.\\nExperience\\nCustomer Relations Specialist\\nJanuary 2015 to Current Company Name ï¼​ City , State\\nProvide Honda clients a resource to register concerns, complaints, and request for assistance as outlined in the owner's manual; ensure best\\npossible outcome.\\nRespond to Client questions and concerns and provide solutions whenever possible ...</td>\n",
       "    </tr>\n",
       "    <tr>\n",
       "      <th>3445</th>\n",
       "      <td>AUTOMOBILE</td>\n",
       "      <td>SENIOR SPECIAL INVESTIGATOR\\nSummary\\nTo work within a successful Special Investigation Unit and work effectively with others. I worked as a Sworn Police Officer for 10 years and have\\nbeen employed as a Sr. Special Investigator or Manager within the insurance industry for 30 years. When working with the insurance companies, I\\nhave been in the Special Investigation Unit combating fraud and investigating questionable claims. When a claim is determined to be fraudulent or\\nhave elements of fraud, I have filed numerous cases with the State's DOI Fraud Bureau and the appropriate counties District Attorney's Office. I\\nhave also conducted numerous training sessions with the Insurance industry on how to recognize the 'red flags' of insurance fraud.\\nHighlights\\nInsurance fraud expertise\\nDa...</td>\n",
       "    </tr>\n",
       "  </tbody>\n",
       "</table>\n",
       "</div>"
      ],
      "text/plain": [
       "        Category  \\\n",
       "3441  AUTOMOBILE   \n",
       "3442  AUTOMOBILE   \n",
       "3443  AUTOMOBILE   \n",
       "3444  AUTOMOBILE   \n",
       "3445  AUTOMOBILE   \n",
       "\n",
       "                                                                                                                                                                                                                                                                                                                                                                                                                                                                                                                                                                                                                                                                                                                                                                                                                               Resume  \n",
       "3441  GENERAL LIABILITY CLAIM REPRESENTATIVE\\nSummary\\nClaims Representative who is highly motivated, success driven with several years experience in the insurance industry.Â\\nSkills\\nClaims file management processes\\nLitigation resolution\\nStrong interpersonal and communication skills\\nSelf-directed\\nTeam player\\nCritical thinker\\nExperience\\n01/2008 to 02/2013\\nGeneral Liability Claim Representative Company Name ï¼​ City , State\\nRecognized for continued outstanding customer service - nominated for In-Synch Award Successfully determine coverage and communicate\\nwith insured based on application of policy information, facts and allegations of each case.\\nAggressively investigate, evaluate, reserve, and negotiate assigned claims in accordance with Best Practices.\\nOrganize workflow to mainta...  \n",
       "3442  AUTOMOBILE TRANSPORTER\\nProfessional Summary\\nDedicated, responsible Class A driver with a clean driver's license. Self-motivated and customer-focused.Exceptional leader talented at leadership,\\ncommunication, and management skills. Excellent team player with over 20 years of experience in the military and trucking industry.Talented\\nMechanist Tech with more than 8 years of experience developing and executing maintenance programs. Excellent troubleshooting skills. Areas of\\nexpertise include mechanics, technology, and management.\\nKey Skills\\nQuality control Solid communication skills\\nOSHA regulatory compliance Strong organizational skills\\nDependable independent worker Strong work ethic\\nClean D.O.T. Team player\\nGood at following instructions Timely project completion\\nWork Experien...  \n",
       "3443  Highlights\\nProg. Languages: C (5+ yrs), Python (3+ yrs), Java (3+ yrs), MATLAB (Simulink) (5+ yrs), R (2 yrs), Processing (2yrs), SQL(4+ yrs),\\nPLC(2 yrs)\\nDoc. Editing: Word/PPT/Excel, Pages/Numbers/Keynote, LATEX\\nMechanical Design: AutoCAD (6 yrs), Solidworks (5+ yrs)\\nMechanical Skills: MakerBot 3D print, Laser cut, Mill, Drill, Lathe Machine.\\nStatistics Softwares: STATA, SPSS\\nDatabase Softwares: SQL Server (4 yrs), Navicat (2 yrs)\\nOperating Systems: Windows 7/10, OS X\\nExperience\\nCompany Name June 2016 to Current R&D Product Development Engineer\\nCity\\nDesign and build a tail-sitter VTOL(vertical take off and landing) UAV(unmanned aerial vehicle) which.\\ntakes off and lands vertically and travels horizontally.\\nMain duties include but not limit to aerodynamics.\\nmodeling, UAV...  \n",
       "3444  CUSTOMER RELATIONS SPECIALIST\\nSummary\\nTo obtain a position with a company that offers the chance for me to utilize my call center and customer service skills to the best of my ability. As\\nwell as an opportunity for advancement and a competitive salary. I am a highly personable Call Center Representative with experience in Customer\\nService, Collections, and Call Center Operations.\\nAccomplishments\\nReached monthly sales goals on several occasions.\\nExperience\\nCustomer Relations Specialist\\nJanuary 2015 to Current Company Name ï¼​ City , State\\nProvide Honda clients a resource to register concerns, complaints, and request for assistance as outlined in the owner's manual; ensure best\\npossible outcome.\\nRespond to Client questions and concerns and provide solutions whenever possible ...  \n",
       "3445  SENIOR SPECIAL INVESTIGATOR\\nSummary\\nTo work within a successful Special Investigation Unit and work effectively with others. I worked as a Sworn Police Officer for 10 years and have\\nbeen employed as a Sr. Special Investigator or Manager within the insurance industry for 30 years. When working with the insurance companies, I\\nhave been in the Special Investigation Unit combating fraud and investigating questionable claims. When a claim is determined to be fraudulent or\\nhave elements of fraud, I have filed numerous cases with the State's DOI Fraud Bureau and the appropriate counties District Attorney's Office. I\\nhave also conducted numerous training sessions with the Insurance industry on how to recognize the 'red flags' of insurance fraud.\\nHighlights\\nInsurance fraud expertise\\nDa...  "
      ]
     },
     "execution_count": 18,
     "metadata": {},
     "output_type": "execute_result"
    }
   ],
   "source": [
    "update.tail()"
   ]
  }
 ],
 "metadata": {
  "kernelspec": {
   "display_name": "conda",
   "language": "python",
   "name": "python3"
  },
  "language_info": {
   "codemirror_mode": {
    "name": "ipython",
    "version": 3
   },
   "file_extension": ".py",
   "mimetype": "text/x-python",
   "name": "python",
   "nbconvert_exporter": "python",
   "pygments_lexer": "ipython3",
   "version": "3.11.10"
  }
 },
 "nbformat": 4,
 "nbformat_minor": 2
}
