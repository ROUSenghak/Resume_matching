{
 "cells": [
  {
   "cell_type": "code",
   "execution_count": 1,
   "metadata": {},
   "outputs": [
    {
     "name": "stdout",
     "output_type": "stream",
     "text": [
      "Requirement already satisfied: numpy in /Applications/anaconda3/envs/conda/lib/python3.11/site-packages (1.26.4)\n",
      "Requirement already satisfied: pandas in /Applications/anaconda3/envs/conda/lib/python3.11/site-packages (2.2.3)\n",
      "Requirement already satisfied: seaborn in /Applications/anaconda3/envs/conda/lib/python3.11/site-packages (0.13.2)\n",
      "Requirement already satisfied: matplotlib in /Applications/anaconda3/envs/conda/lib/python3.11/site-packages (3.9.2)\n",
      "Requirement already satisfied: scikit-learn in /Applications/anaconda3/envs/conda/lib/python3.11/site-packages (1.5.1)\n",
      "Requirement already satisfied: xgboost in /Applications/anaconda3/envs/conda/lib/python3.11/site-packages (2.1.3)\n",
      "Requirement already satisfied: python-dateutil>=2.8.2 in /Applications/anaconda3/envs/conda/lib/python3.11/site-packages (from pandas) (2.9.0.post0)\n",
      "Requirement already satisfied: pytz>=2020.1 in /Applications/anaconda3/envs/conda/lib/python3.11/site-packages (from pandas) (2024.1)\n",
      "Requirement already satisfied: tzdata>=2022.7 in /Applications/anaconda3/envs/conda/lib/python3.11/site-packages (from pandas) (2023.3)\n",
      "Requirement already satisfied: contourpy>=1.0.1 in /Applications/anaconda3/envs/conda/lib/python3.11/site-packages (from matplotlib) (1.3.1)\n",
      "Requirement already satisfied: cycler>=0.10 in /Applications/anaconda3/envs/conda/lib/python3.11/site-packages (from matplotlib) (0.11.0)\n",
      "Requirement already satisfied: fonttools>=4.22.0 in /Applications/anaconda3/envs/conda/lib/python3.11/site-packages (from matplotlib) (4.51.0)\n",
      "Requirement already satisfied: kiwisolver>=1.3.1 in /Applications/anaconda3/envs/conda/lib/python3.11/site-packages (from matplotlib) (1.4.4)\n",
      "Requirement already satisfied: packaging>=20.0 in /Applications/anaconda3/envs/conda/lib/python3.11/site-packages (from matplotlib) (24.1)\n",
      "Requirement already satisfied: pillow>=8 in /Applications/anaconda3/envs/conda/lib/python3.11/site-packages (from matplotlib) (11.0.0)\n",
      "Requirement already satisfied: pyparsing>=2.3.1 in /Applications/anaconda3/envs/conda/lib/python3.11/site-packages (from matplotlib) (3.2.0)\n",
      "Requirement already satisfied: scipy>=1.6.0 in /Applications/anaconda3/envs/conda/lib/python3.11/site-packages (from scikit-learn) (1.14.1)\n",
      "Requirement already satisfied: joblib>=1.2.0 in /Applications/anaconda3/envs/conda/lib/python3.11/site-packages (from scikit-learn) (1.4.2)\n",
      "Requirement already satisfied: threadpoolctl>=3.1.0 in /Applications/anaconda3/envs/conda/lib/python3.11/site-packages (from scikit-learn) (3.5.0)\n",
      "Requirement already satisfied: six>=1.5 in /Applications/anaconda3/envs/conda/lib/python3.11/site-packages (from python-dateutil>=2.8.2->pandas) (1.16.0)\n"
     ]
    }
   ],
   "source": [
    "! pip install numpy pandas seaborn matplotlib scikit-learn xgboost"
   ]
  },
  {
   "cell_type": "code",
   "execution_count": 2,
   "metadata": {},
   "outputs": [],
   "source": [
    "import numpy as np\n",
    "import pandas as pd\n",
    "import seaborn as sns\n",
    "sns.set_style('darkgrid')\n",
    "%matplotlib inline\n",
    "import matplotlib.pyplot as plt\n",
    "import matplotlib.pylab as pylab\n",
    "from sklearn.model_selection import train_test_split\n",
    "from sklearn.feature_extraction.text import TfidfVectorizer\n",
    "\n",
    "from sklearn.svm import SVC\n",
    "from xgboost import XGBClassifier\n",
    "from sklearn.naive_bayes import MultinomialNB\n",
    "from sklearn.ensemble import BaggingClassifier\n",
    "from sklearn.ensemble import AdaBoostClassifier\n",
    "from sklearn.tree import DecisionTreeClassifier\n",
    "from sklearn.neighbors import KNeighborsClassifier\n",
    "from sklearn.ensemble import RandomForestClassifier\n",
    "from sklearn.linear_model import LogisticRegression\n",
    "from sklearn.ensemble import GradientBoostingClassifier\n",
    "from sklearn.metrics import confusion_matrix, accuracy_score\n",
    "from sklearn.model_selection import train_test_split, cross_val_score\n",
    "from sklearn.metrics import f1_score, classification_report, precision_score, recall_score\n",
    "\n",
    "\n",
    "import warnings\n",
    "warnings.filterwarnings('ignore')\n",
    "\n",
    "# job = pd.read_csv('/Users/macbookair/Desktop/project/Resume_Analyser/resume-job-matching/data/Preprocessed/Cleaned_job.csv')\n",
    "resume = pd.read_csv('/Users/macbookair/Desktop/project/Resume_Analyser/resume-job-matching/data/Preprocessed/Cleaned_resume.csv')"
   ]
  },
  {
   "cell_type": "code",
   "execution_count": 3,
   "metadata": {},
   "outputs": [],
   "source": [
    "pd.set_option('max_colwidth', 800)"
   ]
  },
  {
   "cell_type": "code",
   "execution_count": 4,
   "metadata": {},
   "outputs": [
    {
     "data": {
      "text/html": [
       "<div>\n",
       "<style scoped>\n",
       "    .dataframe tbody tr th:only-of-type {\n",
       "        vertical-align: middle;\n",
       "    }\n",
       "\n",
       "    .dataframe tbody tr th {\n",
       "        vertical-align: top;\n",
       "    }\n",
       "\n",
       "    .dataframe thead th {\n",
       "        text-align: right;\n",
       "    }\n",
       "</style>\n",
       "<table border=\"1\" class=\"dataframe\">\n",
       "  <thead>\n",
       "    <tr style=\"text-align: right;\">\n",
       "      <th></th>\n",
       "      <th>Category</th>\n",
       "      <th>cleaned_resume</th>\n",
       "      <th>LabelEncoding</th>\n",
       "    </tr>\n",
       "  </thead>\n",
       "  <tbody>\n",
       "    <tr>\n",
       "      <th>0</th>\n",
       "      <td>Data Science</td>\n",
       "      <td>programming language python pandas numpy scipy scikitlearn matplotlib sql java javascriptjquery machine learn regression svm nave baye knn random forest decision tree boost technique cluster analysis word embed sentiment analysis natural language process dimensionality reduction topic model lda nmf pca neural net database visualization mysql sqlserver cassandra hbase elasticsearch d3js dcjs plotly kibana matplotlib ggplot tableau other regular expression html css angular 6 logstash kafka python flask git docker computer vision open cv understand deep learningeducation detail datum science assurance associate datum science assurance associate ernst young llp skill detail javascript exprience 24 month jquery exprience 24 month python exprience 24 monthscompany detail company ernst young ...</td>\n",
       "      <td>21</td>\n",
       "    </tr>\n",
       "    <tr>\n",
       "      <th>1</th>\n",
       "      <td>Data Science</td>\n",
       "      <td>education detail may 2013 may 2017 uitrgpv data scientist data scientist matelabs skill detail python exprience less 1 year month statsmodels exprience 12 month aw exprience less 1 year month machine learn exprience less 1 year month sklearn exprience less 1 year month scipy exprience less 1 year month keras exprience less 1 year monthscompany detail company matelab description ml platform business professional dummy enthusiast 60a koramangala 5th block achievementstask behind sukh sagar bengaluru india develop deploy auto preprocessing step machine learn mainly miss value treatment outli detection encode scale feature selection dimensionality reduction deploy automate classification regression model linkedincominadityarathore b4600b146 reasearch deploy time series forecasting model ar...</td>\n",
       "      <td>21</td>\n",
       "    </tr>\n",
       "    <tr>\n",
       "      <th>2</th>\n",
       "      <td>Data Science</td>\n",
       "      <td>area interest deep learn control system design programming inpython electric machinery web development analytic technical activity q hindustan aeronautic limit bangalore 4 week guidance mr satish senior engineer hangar mirage 2000 fighter aircraft technical programming matlab python java labview python webframeworkdjango flask ltspiceintermediate language mipowerintermediate github gitbash jupyter notebook xampp mysqlbasics python software package interpretersanaconda python2 python3 pycharm java ideeclipse operating system windows ubuntu debiankali linux education detail january 2019 btech electrical electronics engineering manipal institute technology january 2015 deeksha center january 2013 little flower public school august 2000 manipal academy high datum science data science elect...</td>\n",
       "      <td>21</td>\n",
       "    </tr>\n",
       "    <tr>\n",
       "      <th>3</th>\n",
       "      <td>Data Science</td>\n",
       "      <td>r python sap hana tableau sap hana sql sap hana pal ms sql sap lumira c linear programming datum model advance analytic scm analytic retail analytic social medium analytic nlp education detail january 2017 january 2018 pgdm business analytic great lakes institute management illinois institute technology january 2013 bachelor engineering electronic communication bengaluru karnataka new horizon college engineering bangalore visvesvaraya technological university datum science consultant consultant deloitte usi skill detail linear programming exprience 6 month retail exprience 6 month retail marketing exprience 6 month scm exprience 6 month sql exprience less 1 year month deep learn exprience less 1 year month machine learn exprience less 1 year month python exprience less 1 year month r e...</td>\n",
       "      <td>21</td>\n",
       "    </tr>\n",
       "  </tbody>\n",
       "</table>\n",
       "</div>"
      ],
      "text/plain": [
       "       Category  \\\n",
       "0  Data Science   \n",
       "1  Data Science   \n",
       "2  Data Science   \n",
       "3  Data Science   \n",
       "\n",
       "                                                                                                                                                                                                                                                                                                                                                                                                                                                                                                                                                                                                                                                                                                                                                                                                                    cleaned_resume  \\\n",
       "0  programming language python pandas numpy scipy scikitlearn matplotlib sql java javascriptjquery machine learn regression svm nave baye knn random forest decision tree boost technique cluster analysis word embed sentiment analysis natural language process dimensionality reduction topic model lda nmf pca neural net database visualization mysql sqlserver cassandra hbase elasticsearch d3js dcjs plotly kibana matplotlib ggplot tableau other regular expression html css angular 6 logstash kafka python flask git docker computer vision open cv understand deep learningeducation detail datum science assurance associate datum science assurance associate ernst young llp skill detail javascript exprience 24 month jquery exprience 24 month python exprience 24 monthscompany detail company ernst young ...   \n",
       "1  education detail may 2013 may 2017 uitrgpv data scientist data scientist matelabs skill detail python exprience less 1 year month statsmodels exprience 12 month aw exprience less 1 year month machine learn exprience less 1 year month sklearn exprience less 1 year month scipy exprience less 1 year month keras exprience less 1 year monthscompany detail company matelab description ml platform business professional dummy enthusiast 60a koramangala 5th block achievementstask behind sukh sagar bengaluru india develop deploy auto preprocessing step machine learn mainly miss value treatment outli detection encode scale feature selection dimensionality reduction deploy automate classification regression model linkedincominadityarathore b4600b146 reasearch deploy time series forecasting model ar...   \n",
       "2  area interest deep learn control system design programming inpython electric machinery web development analytic technical activity q hindustan aeronautic limit bangalore 4 week guidance mr satish senior engineer hangar mirage 2000 fighter aircraft technical programming matlab python java labview python webframeworkdjango flask ltspiceintermediate language mipowerintermediate github gitbash jupyter notebook xampp mysqlbasics python software package interpretersanaconda python2 python3 pycharm java ideeclipse operating system windows ubuntu debiankali linux education detail january 2019 btech electrical electronics engineering manipal institute technology january 2015 deeksha center january 2013 little flower public school august 2000 manipal academy high datum science data science elect...   \n",
       "3  r python sap hana tableau sap hana sql sap hana pal ms sql sap lumira c linear programming datum model advance analytic scm analytic retail analytic social medium analytic nlp education detail january 2017 january 2018 pgdm business analytic great lakes institute management illinois institute technology january 2013 bachelor engineering electronic communication bengaluru karnataka new horizon college engineering bangalore visvesvaraya technological university datum science consultant consultant deloitte usi skill detail linear programming exprience 6 month retail exprience 6 month retail marketing exprience 6 month scm exprience 6 month sql exprience less 1 year month deep learn exprience less 1 year month machine learn exprience less 1 year month python exprience less 1 year month r e...   \n",
       "\n",
       "   LabelEncoding  \n",
       "0             21  \n",
       "1             21  \n",
       "2             21  \n",
       "3             21  "
      ]
     },
     "execution_count": 4,
     "metadata": {},
     "output_type": "execute_result"
    }
   ],
   "source": [
    "resume.head(4)"
   ]
  },
  {
   "cell_type": "code",
   "execution_count": 5,
   "metadata": {},
   "outputs": [
    {
     "data": {
      "text/html": [
       "<div>\n",
       "<style scoped>\n",
       "    .dataframe tbody tr th:only-of-type {\n",
       "        vertical-align: middle;\n",
       "    }\n",
       "\n",
       "    .dataframe tbody tr th {\n",
       "        vertical-align: top;\n",
       "    }\n",
       "\n",
       "    .dataframe thead th {\n",
       "        text-align: right;\n",
       "    }\n",
       "</style>\n",
       "<table border=\"1\" class=\"dataframe\">\n",
       "  <thead>\n",
       "    <tr style=\"text-align: right;\">\n",
       "      <th></th>\n",
       "      <th>LabelEncoding</th>\n",
       "    </tr>\n",
       "  </thead>\n",
       "  <tbody>\n",
       "    <tr>\n",
       "      <th>count</th>\n",
       "      <td>3446.000000</td>\n",
       "    </tr>\n",
       "    <tr>\n",
       "      <th>mean</th>\n",
       "      <td>22.567324</td>\n",
       "    </tr>\n",
       "    <tr>\n",
       "      <th>std</th>\n",
       "      <td>13.891596</td>\n",
       "    </tr>\n",
       "    <tr>\n",
       "      <th>min</th>\n",
       "      <td>0.000000</td>\n",
       "    </tr>\n",
       "    <tr>\n",
       "      <th>25%</th>\n",
       "      <td>11.000000</td>\n",
       "    </tr>\n",
       "    <tr>\n",
       "      <th>50%</th>\n",
       "      <td>23.000000</td>\n",
       "    </tr>\n",
       "    <tr>\n",
       "      <th>75%</th>\n",
       "      <td>34.000000</td>\n",
       "    </tr>\n",
       "    <tr>\n",
       "      <th>max</th>\n",
       "      <td>47.000000</td>\n",
       "    </tr>\n",
       "  </tbody>\n",
       "</table>\n",
       "</div>"
      ],
      "text/plain": [
       "       LabelEncoding\n",
       "count    3446.000000\n",
       "mean       22.567324\n",
       "std        13.891596\n",
       "min         0.000000\n",
       "25%        11.000000\n",
       "50%        23.000000\n",
       "75%        34.000000\n",
       "max        47.000000"
      ]
     },
     "execution_count": 5,
     "metadata": {},
     "output_type": "execute_result"
    }
   ],
   "source": [
    "resume.describe()"
   ]
  },
  {
   "cell_type": "code",
   "execution_count": 6,
   "metadata": {},
   "outputs": [
    {
     "data": {
      "text/plain": [
       "Category          0\n",
       "cleaned_resume    1\n",
       "LabelEncoding     0\n",
       "dtype: int64"
      ]
     },
     "execution_count": 6,
     "metadata": {},
     "output_type": "execute_result"
    }
   ],
   "source": [
    "resume.isnull().sum()"
   ]
  },
  {
   "cell_type": "code",
   "execution_count": 11,
   "metadata": {},
   "outputs": [],
   "source": [
    "resume['cleaned_resume'] = resume['cleaned_resume'].fillna(\"\")"
   ]
  },
  {
   "cell_type": "markdown",
   "metadata": {},
   "source": [
    "### Train - Test Split"
   ]
  },
  {
   "cell_type": "code",
   "execution_count": 12,
   "metadata": {},
   "outputs": [],
   "source": [
    "x = resume['cleaned_resume'].values\n",
    "y = resume['Category'].values"
   ]
  },
  {
   "cell_type": "code",
   "execution_count": 13,
   "metadata": {},
   "outputs": [
    {
     "data": {
      "text/plain": [
       "((2584,), (862,))"
      ]
     },
     "execution_count": 13,
     "metadata": {},
     "output_type": "execute_result"
    }
   ],
   "source": [
    "x_train, x_test, y_train, y_test = train_test_split(x,y, random_state=45, test_size=0.25,stratify=y)\n",
    "x_train.shape, x_test.shape"
   ]
  },
  {
   "cell_type": "code",
   "execution_count": null,
   "metadata": {},
   "outputs": [],
   "source": []
  },
  {
   "cell_type": "markdown",
   "metadata": {},
   "source": [
    "### TF-IDF Vectorization"
   ]
  },
  {
   "cell_type": "code",
   "execution_count": 14,
   "metadata": {},
   "outputs": [],
   "source": [
    "tfidf_vector = TfidfVectorizer(sublinear_tf=True,stop_words='english')"
   ]
  },
  {
   "cell_type": "code",
   "execution_count": 15,
   "metadata": {},
   "outputs": [],
   "source": [
    "x_train = tfidf_vector.fit_transform(x_train)\n",
    "x_test = tfidf_vector.transform(x_test)"
   ]
  },
  {
   "cell_type": "code",
   "execution_count": 16,
   "metadata": {},
   "outputs": [
    {
     "data": {
      "text/plain": [
       "((2584, 43535), (862, 43535))"
      ]
     },
     "execution_count": 16,
     "metadata": {},
     "output_type": "execute_result"
    }
   ],
   "source": [
    "x_train.shape, x_test.shape"
   ]
  },
  {
   "cell_type": "code",
   "execution_count": 17,
   "metadata": {},
   "outputs": [
    {
     "name": "stdout",
     "output_type": "stream",
     "text": [
      "['Business Analyst' 'FITNESS' 'Java Developer' ... 'CHEF' 'HEALTHCARE'\n",
      " 'DevOps Engineer']\n",
      "['ACCOUNTANT' 'CONSTRUCTION' 'TEACHER' 'ENGINEERING' 'APPAREL'\n",
      " 'Network Security Engineer' 'INFORMATION-TECHNOLOGY' 'Python Developer'\n",
      " 'HEALTHCARE' 'CONSTRUCTION' 'HEALTHCARE' 'BUSINESS-DEVELOPMENT'\n",
      " 'HEALTHCARE' 'ADVOCATE' 'Python Developer' 'DIGITAL-MEDIA' 'BANKING'\n",
      " 'CONSULTANT' 'HR' 'Database' 'ETL Developer' 'ENGINEERING' 'HEALTHCARE'\n",
      " 'ARTS' 'Arts' 'AVIATION' 'BANKING' 'DESIGNER' 'FITNESS'\n",
      " 'INFORMATION-TECHNOLOGY' 'Hadoop' 'DevOps Engineer' 'AVIATION'\n",
      " 'HEALTHCARE' 'Mechanical Engineer' 'CONSTRUCTION' 'DESIGNER' 'CHEF'\n",
      " 'BUSINESS-DEVELOPMENT' 'AVIATION' 'DESIGNER' 'ENGINEERING' 'FINANCE'\n",
      " 'CONSULTANT' 'CHEF' 'AGRICULTURE' 'BANKING' 'BUSINESS-DEVELOPMENT'\n",
      " 'AVIATION' 'TEACHER' 'INFORMATION-TECHNOLOGY' 'DIGITAL-MEDIA' 'TEACHER'\n",
      " 'FITNESS' 'DIGITAL-MEDIA' 'CONSULTANT' 'Hadoop' 'DIGITAL-MEDIA'\n",
      " 'PUBLIC-RELATIONS' 'AUTOMOBILE' 'TEACHER' 'ARTS' 'DIGITAL-MEDIA' 'ARTS'\n",
      " 'Java Developer' 'APPAREL' 'TEACHER' 'CONSULTANT' 'CONSTRUCTION' 'HR'\n",
      " 'Civil Engineer' 'CHEF' 'CHEF' 'BANKING' 'HR' 'Advocate' 'BPO'\n",
      " 'ENGINEERING' 'SAP Developer' 'Java Developer' 'ARTS' 'APPAREL' 'Arts'\n",
      " 'BUSINESS-DEVELOPMENT' 'DevOps Engineer' 'ARTS' 'Mechanical Engineer'\n",
      " 'AGRICULTURE' 'INFORMATION-TECHNOLOGY' 'TEACHER' 'ACCOUNTANT' 'Testing'\n",
      " 'HR' 'CONSTRUCTION' 'SALES' 'PUBLIC-RELATIONS' 'SALES' 'AVIATION'\n",
      " 'ADVOCATE' 'BANKING' 'DotNet Developer' 'BANKING' 'Java Developer' 'HR'\n",
      " 'AVIATION' 'ENGINEERING' 'AVIATION' 'Automation Testing' 'AVIATION'\n",
      " 'CONSTRUCTION' 'ETL Developer' 'HEALTHCARE' 'AGRICULTURE' 'ENGINEERING'\n",
      " 'Web Designing' 'ADVOCATE' 'AUTOMOBILE' 'FINANCE' 'HEALTHCARE'\n",
      " 'DIGITAL-MEDIA' 'TEACHER' 'DevOps Engineer' 'CONSULTANT' 'ADVOCATE'\n",
      " 'HEALTHCARE' 'Python Developer' 'Hadoop' 'AVIATION' 'HEALTHCARE' 'ARTS'\n",
      " 'INFORMATION-TECHNOLOGY' 'ENGINEERING' 'APPAREL' 'Data Science'\n",
      " 'DESIGNER' 'BUSINESS-DEVELOPMENT' 'CONSTRUCTION' 'FITNESS' 'SALES'\n",
      " 'CONSTRUCTION' 'Data Science' 'HR' 'ADVOCATE' 'APPAREL' 'AVIATION'\n",
      " 'BANKING' 'AVIATION' 'AVIATION' 'ADVOCATE' 'SALES' 'BUSINESS-DEVELOPMENT'\n",
      " 'ACCOUNTANT' 'ACCOUNTANT' 'DevOps Engineer' 'CONSTRUCTION' 'HR'\n",
      " 'Operations Manager' 'Civil Engineer' 'HEALTHCARE' 'Database'\n",
      " 'BUSINESS-DEVELOPMENT' 'CONSULTANT' 'Python Developer' 'ADVOCATE'\n",
      " 'CONSTRUCTION' 'TEACHER' 'INFORMATION-TECHNOLOGY' 'CONSTRUCTION' 'HR'\n",
      " 'ADVOCATE' 'FINANCE' 'BANKING' 'ACCOUNTANT' 'ACCOUNTANT' 'Testing'\n",
      " 'ACCOUNTANT' 'FINANCE' 'Electrical Engineering' 'HR' 'SALES' 'FITNESS'\n",
      " 'Testing' 'DIGITAL-MEDIA' 'ACCOUNTANT' 'AGRICULTURE' 'ADVOCATE'\n",
      " 'ADVOCATE' 'DIGITAL-MEDIA' 'HR' 'Health and fitness' 'BANKING' 'ARTS'\n",
      " 'PUBLIC-RELATIONS' 'SAP Developer' 'ADVOCATE' 'FINANCE'\n",
      " 'PUBLIC-RELATIONS' 'SALES' 'AGRICULTURE' 'ENGINEERING' 'DIGITAL-MEDIA'\n",
      " 'Database' 'FINANCE' 'BANKING' 'PUBLIC-RELATIONS' 'FITNESS' 'ACCOUNTANT'\n",
      " 'DESIGNER' 'DevOps Engineer' 'Java Developer' 'Testing' 'APPAREL'\n",
      " 'APPAREL' 'INFORMATION-TECHNOLOGY' 'AVIATION' 'FINANCE' 'FITNESS' 'CHEF'\n",
      " 'ACCOUNTANT' 'Sales' 'BANKING' 'DIGITAL-MEDIA' 'Web Designing'\n",
      " 'DIGITAL-MEDIA' 'DESIGNER' 'Java Developer' 'Business Analyst' 'SALES'\n",
      " 'Java Developer' 'TEACHER' 'AVIATION' 'FINANCE' 'TEACHER' 'ADVOCATE'\n",
      " 'Advocate' 'CHEF' 'Java Developer' 'ADVOCATE' 'PMO' 'HR'\n",
      " 'PUBLIC-RELATIONS' 'DESIGNER' 'Data Science' 'ENGINEERING' 'ENGINEERING'\n",
      " 'SALES' 'CHEF' 'FINANCE' 'Java Developer' 'PUBLIC-RELATIONS'\n",
      " 'Python Developer' 'DevOps Engineer' 'ARTS' 'BUSINESS-DEVELOPMENT'\n",
      " 'AGRICULTURE' 'ADVOCATE' 'TEACHER' 'INFORMATION-TECHNOLOGY'\n",
      " 'PUBLIC-RELATIONS' 'Data Science' 'Automation Testing'\n",
      " 'Electrical Engineering' 'Java Developer' 'FINANCE' 'HEALTHCARE'\n",
      " 'Health and fitness' 'PMO' 'Database' 'Blockchain' 'ACCOUNTANT'\n",
      " 'SAP Developer' 'CONSTRUCTION' 'SALES' 'SALES' 'CONSULTANT' 'Hadoop'\n",
      " 'INFORMATION-TECHNOLOGY' 'BUSINESS-DEVELOPMENT' 'ACCOUNTANT' 'ADVOCATE'\n",
      " 'Mechanical Engineer' 'APPAREL' 'CONSTRUCTION' 'FINANCE' 'DESIGNER'\n",
      " 'HEALTHCARE' 'DIGITAL-MEDIA' 'Business Analyst' 'BUSINESS-DEVELOPMENT'\n",
      " 'FITNESS' 'Business Analyst' 'HR' 'ETL Developer' 'Data Science'\n",
      " 'CONSULTANT' 'HEALTHCARE' 'INFORMATION-TECHNOLOGY' 'CHEF' 'BPO'\n",
      " 'CONSTRUCTION' 'ACCOUNTANT' 'CONSULTANT' 'HEALTHCARE' 'HR' 'Blockchain'\n",
      " 'Java Developer' 'Electrical Engineering' 'CONSULTANT' 'CHEF'\n",
      " 'Business Analyst' 'FITNESS' 'HEALTHCARE' 'INFORMATION-TECHNOLOGY'\n",
      " 'Business Analyst' 'FINANCE' 'SALES' 'SAP Developer' 'HR' 'Web Designing'\n",
      " 'FITNESS' 'ACCOUNTANT' 'FITNESS' 'DIGITAL-MEDIA' 'Sales' 'TEACHER'\n",
      " 'INFORMATION-TECHNOLOGY' 'Blockchain' 'CONSULTANT' 'Web Designing'\n",
      " 'APPAREL' 'PUBLIC-RELATIONS' 'Operations Manager' 'DESIGNER' 'FITNESS'\n",
      " 'HEALTHCARE' 'Java Developer' 'APPAREL' 'ETL Developer' 'Arts'\n",
      " 'INFORMATION-TECHNOLOGY' 'FINANCE' 'PMO' 'TEACHER' 'Testing' 'DESIGNER'\n",
      " 'HR' 'BUSINESS-DEVELOPMENT' 'DotNet Developer' 'Operations Manager'\n",
      " 'Mechanical Engineer' 'BUSINESS-DEVELOPMENT' 'DESIGNER' 'Java Developer'\n",
      " 'HR' 'CONSTRUCTION' 'HEALTHCARE' 'ACCOUNTANT' 'Data Science'\n",
      " 'PUBLIC-RELATIONS' 'TEACHER' 'Sales' 'Health and fitness'\n",
      " 'Mechanical Engineer' 'BANKING' 'CONSTRUCTION' 'Health and fitness'\n",
      " 'CONSULTANT' 'INFORMATION-TECHNOLOGY' 'CONSTRUCTION' 'PUBLIC-RELATIONS'\n",
      " 'PUBLIC-RELATIONS' 'DevOps Engineer' 'ARTS' 'ARTS' 'FITNESS' 'TEACHER'\n",
      " 'Sales' 'DevOps Engineer' 'ACCOUNTANT' 'FINANCE' 'ADVOCATE'\n",
      " 'CONSTRUCTION' 'DESIGNER' 'AUTOMOBILE' 'CHEF' 'Mechanical Engineer'\n",
      " 'DESIGNER' 'PUBLIC-RELATIONS' 'Electrical Engineering' 'ENGINEERING'\n",
      " 'DIGITAL-MEDIA' 'AUTOMOBILE' 'Sales' 'INFORMATION-TECHNOLOGY'\n",
      " 'ENGINEERING' 'AVIATION' 'Health and fitness' 'APPAREL' 'SALES'\n",
      " 'PUBLIC-RELATIONS' 'Operations Manager' 'INFORMATION-TECHNOLOGY'\n",
      " 'CONSULTANT' 'SALES' 'BUSINESS-DEVELOPMENT' 'DIGITAL-MEDIA' 'CONSULTANT'\n",
      " 'ARTS' 'CHEF' 'CONSTRUCTION' 'Arts' 'ENGINEERING' 'Operations Manager'\n",
      " 'Hadoop' 'TEACHER' 'ACCOUNTANT' 'SALES' 'ADVOCATE' 'CHEF' 'BANKING'\n",
      " 'Testing' 'PUBLIC-RELATIONS' 'PUBLIC-RELATIONS' 'ENGINEERING' 'APPAREL'\n",
      " 'FINANCE' 'Civil Engineer' 'FINANCE' 'INFORMATION-TECHNOLOGY' 'BANKING'\n",
      " 'ARTS' 'FINANCE' 'DotNet Developer' 'BUSINESS-DEVELOPMENT' 'AGRICULTURE'\n",
      " 'Arts' 'CONSTRUCTION' 'BANKING' 'Data Science' 'SALES' 'Java Developer'\n",
      " 'TEACHER' 'Automation Testing' 'INFORMATION-TECHNOLOGY' 'HEALTHCARE'\n",
      " 'Network Security Engineer' 'AVIATION' 'SALES' 'BPO' 'DIGITAL-MEDIA'\n",
      " 'CONSULTANT' 'PUBLIC-RELATIONS' 'CHEF' 'APPAREL' 'BUSINESS-DEVELOPMENT'\n",
      " 'CHEF' 'CHEF' 'Web Designing' 'Business Analyst' 'Testing' 'Blockchain'\n",
      " 'INFORMATION-TECHNOLOGY' 'CONSTRUCTION' 'Sales' 'FITNESS' 'CHEF'\n",
      " 'ACCOUNTANT' 'HR' 'CONSULTANT' 'CHEF' 'HR' 'BUSINESS-DEVELOPMENT'\n",
      " 'ENGINEERING' 'CONSULTANT' 'Database' 'CONSTRUCTION' 'ACCOUNTANT'\n",
      " 'Hadoop' 'FITNESS' 'TEACHER' 'Blockchain' 'AUTOMOBILE'\n",
      " 'Mechanical Engineer' 'Sales' 'INFORMATION-TECHNOLOGY' 'CONSULTANT'\n",
      " 'DESIGNER' 'FINANCE' 'CHEF' 'ADVOCATE' 'ENGINEERING' 'CONSULTANT'\n",
      " 'ACCOUNTANT' 'BUSINESS-DEVELOPMENT' 'HR' 'CONSULTANT' 'FINANCE'\n",
      " 'BUSINESS-DEVELOPMENT' 'SAP Developer' 'Operations Manager' 'HEALTHCARE'\n",
      " 'APPAREL' 'ACCOUNTANT' 'ENGINEERING' 'APPAREL' 'HR' 'FITNESS'\n",
      " 'CONSULTANT' 'SALES' 'ARTS' 'Web Designing' 'BUSINESS-DEVELOPMENT'\n",
      " 'Sales' 'Java Developer' 'HEALTHCARE' 'FINANCE' 'INFORMATION-TECHNOLOGY'\n",
      " 'AVIATION' 'APPAREL' 'INFORMATION-TECHNOLOGY' 'FINANCE' 'Hadoop'\n",
      " 'CONSTRUCTION' 'SAP Developer' 'Civil Engineer' 'CONSULTANT' 'DESIGNER'\n",
      " 'Python Developer' 'AGRICULTURE' 'Network Security Engineer' 'AVIATION'\n",
      " 'PMO' 'Database' 'FINANCE' 'ENGINEERING' 'Testing' 'FITNESS'\n",
      " 'ETL Developer' 'HEALTHCARE' 'APPAREL' 'BUSINESS-DEVELOPMENT'\n",
      " 'CONSULTANT' 'CHEF' 'ACCOUNTANT' 'AGRICULTURE' 'CONSTRUCTION'\n",
      " 'DIGITAL-MEDIA' 'DESIGNER' 'CHEF' 'Java Developer' 'BPO' 'AVIATION'\n",
      " 'FITNESS' 'SALES' 'DESIGNER' 'FINANCE' 'CHEF' 'HR' 'BANKING'\n",
      " 'PUBLIC-RELATIONS' 'ADVOCATE' 'Advocate' 'FITNESS' 'AVIATION' 'CHEF'\n",
      " 'AGRICULTURE' 'FITNESS' 'HEALTHCARE' 'ENGINEERING' 'Java Developer'\n",
      " 'Web Designing' 'BANKING' 'HR' 'CONSULTANT' 'PUBLIC-RELATIONS'\n",
      " 'DotNet Developer' 'HEALTHCARE' 'AVIATION' 'TEACHER' 'DotNet Developer'\n",
      " 'HR' 'AVIATION' 'Data Science' 'Arts' 'HEALTHCARE' 'ARTS' 'CHEF'\n",
      " 'BUSINESS-DEVELOPMENT' 'INFORMATION-TECHNOLOGY' 'DIGITAL-MEDIA'\n",
      " 'DevOps Engineer' 'Hadoop' 'DIGITAL-MEDIA' 'Testing' 'AGRICULTURE'\n",
      " 'DESIGNER' 'DevOps Engineer' 'Electrical Engineering' 'CHEF' 'TEACHER'\n",
      " 'FINANCE' 'DESIGNER' 'Hadoop' 'AUTOMOBILE' 'DevOps Engineer' 'FITNESS'\n",
      " 'Java Developer' 'FINANCE' 'INFORMATION-TECHNOLOGY' 'DIGITAL-MEDIA'\n",
      " 'PUBLIC-RELATIONS' 'BUSINESS-DEVELOPMENT' 'ETL Developer'\n",
      " 'INFORMATION-TECHNOLOGY' 'PMO' 'ETL Developer' 'Testing' 'ARTS'\n",
      " 'ETL Developer' 'HEALTHCARE' 'INFORMATION-TECHNOLOGY' 'HEALTHCARE'\n",
      " 'DESIGNER' 'PUBLIC-RELATIONS' 'HR' 'CONSULTANT' 'CHEF' 'ADVOCATE'\n",
      " 'Testing' 'CONSTRUCTION' 'Sales' 'ARTS' 'ACCOUNTANT'\n",
      " 'BUSINESS-DEVELOPMENT' 'Python Developer' 'CHEF' 'Python Developer'\n",
      " 'BANKING' 'Health and fitness' 'ARTS' 'AUTOMOBILE' 'HR' 'CHEF' 'BANKING'\n",
      " 'FITNESS' 'DESIGNER' 'BANKING' 'PUBLIC-RELATIONS' 'ADVOCATE'\n",
      " 'Java Developer' 'SALES' 'TEACHER' 'ADVOCATE' 'AUTOMOBILE'\n",
      " 'PUBLIC-RELATIONS' 'INFORMATION-TECHNOLOGY' 'ENGINEERING'\n",
      " 'Operations Manager' 'BUSINESS-DEVELOPMENT' 'Civil Engineer' 'Testing'\n",
      " 'APPAREL' 'ADVOCATE' 'ENGINEERING' 'Testing' 'Blockchain' 'FITNESS' 'HR'\n",
      " 'DevOps Engineer' 'DotNet Developer' 'SALES' 'Automation Testing'\n",
      " 'APPAREL' 'BPO' 'PUBLIC-RELATIONS' 'DESIGNER' 'ADVOCATE' 'FITNESS' 'HR'\n",
      " 'TEACHER' 'Blockchain' 'SALES' 'ADVOCATE' 'ARTS' 'BUSINESS-DEVELOPMENT'\n",
      " 'Civil Engineer' 'ENGINEERING' 'FITNESS' 'Python Developer'\n",
      " 'Web Designing' 'ETL Developer' 'ARTS' 'HEALTHCARE' 'AVIATION'\n",
      " 'Health and fitness' 'FINANCE' 'Blockchain' 'BANKING' 'APPAREL' 'FITNESS'\n",
      " 'APPAREL' 'DESIGNER' 'Mechanical Engineer' 'Data Science' 'ARTS'\n",
      " 'AGRICULTURE' 'DESIGNER' 'BUSINESS-DEVELOPMENT' 'DevOps Engineer'\n",
      " 'ENGINEERING' 'APPAREL' 'ENGINEERING' 'Arts' 'Arts' 'SALES' 'Testing'\n",
      " 'Network Security Engineer' 'ARTS' 'FINANCE' 'FITNESS' 'Sales'\n",
      " 'Web Designing' 'AVIATION' 'Network Security Engineer' 'SALES' 'ARTS'\n",
      " 'Database' 'AUTOMOBILE' 'HR' 'INFORMATION-TECHNOLOGY' 'DotNet Developer'\n",
      " 'HR' 'Python Developer' 'ENGINEERING' 'APPAREL' 'BANKING' 'DIGITAL-MEDIA'\n",
      " 'DESIGNER' 'Python Developer' 'DESIGNER' 'TEACHER' 'Advocate' 'HR'\n",
      " 'APPAREL' 'INFORMATION-TECHNOLOGY' 'Operations Manager' 'ARTS'\n",
      " 'Java Developer' 'Business Analyst' 'SALES' 'ARTS' 'FITNESS' 'SALES'\n",
      " 'CHEF' 'PMO' 'TEACHER' 'CHEF' 'SALES' 'ACCOUNTANT' 'Web Designing' 'HR'\n",
      " 'Blockchain' 'HR' 'SALES' 'ACCOUNTANT' 'ACCOUNTANT' 'Automation Testing'\n",
      " 'BUSINESS-DEVELOPMENT' 'SALES' 'DIGITAL-MEDIA' 'Java Developer' 'TEACHER'\n",
      " 'ADVOCATE' 'HEALTHCARE' 'DESIGNER' 'CONSULTANT' 'PUBLIC-RELATIONS' 'ARTS'\n",
      " 'FINANCE' 'ACCOUNTANT' 'Automation Testing' 'FINANCE' 'FITNESS' 'BANKING'\n",
      " 'Data Science' 'DIGITAL-MEDIA' 'ARTS' 'ENGINEERING' 'ACCOUNTANT'\n",
      " 'DevOps Engineer' 'Mechanical Engineer' 'CONSTRUCTION' 'BANKING'\n",
      " 'AGRICULTURE' 'INFORMATION-TECHNOLOGY' 'FINANCE' 'TEACHER' 'ENGINEERING'\n",
      " 'ADVOCATE' 'AGRICULTURE' 'AVIATION' 'BANKING' 'HR' 'FITNESS' 'CONSULTANT'\n",
      " 'Python Developer' 'BANKING' 'BUSINESS-DEVELOPMENT' 'Mechanical Engineer'\n",
      " 'Database' 'AVIATION' 'ADVOCATE' 'AVIATION' 'BUSINESS-DEVELOPMENT' 'CHEF'\n",
      " 'PUBLIC-RELATIONS' 'ENGINEERING' 'AGRICULTURE' 'Testing'\n",
      " 'BUSINESS-DEVELOPMENT' 'AVIATION' 'SALES' 'ADVOCATE'\n",
      " 'Network Security Engineer' 'Blockchain' 'Testing' 'ADVOCATE'\n",
      " 'Operations Manager' 'HR' 'BANKING' 'ACCOUNTANT' 'AVIATION'\n",
      " 'Electrical Engineering' 'BANKING' 'Testing' 'CONSTRUCTION'\n",
      " 'Web Designing' 'AGRICULTURE' 'HR' 'Advocate' 'CONSULTANT'\n",
      " 'PUBLIC-RELATIONS' 'ACCOUNTANT' 'DIGITAL-MEDIA' 'ENGINEERING' 'HR'\n",
      " 'BANKING' 'CONSTRUCTION' 'PUBLIC-RELATIONS' 'HEALTHCARE' 'HR'\n",
      " 'Java Developer' 'HR' 'Electrical Engineering' 'Hadoop' 'HR' 'CONSULTANT'\n",
      " 'PMO' 'Arts' 'ETL Developer' 'ENGINEERING' 'Operations Manager']\n"
     ]
    },
    {
     "data": {
      "text/plain": [
       "(None, None)"
      ]
     },
     "execution_count": 17,
     "metadata": {},
     "output_type": "execute_result"
    }
   ],
   "source": [
    "print(y_train),print(y_test)"
   ]
  },
  {
   "cell_type": "code",
   "execution_count": null,
   "metadata": {},
   "outputs": [],
   "source": []
  },
  {
   "cell_type": "markdown",
   "metadata": {},
   "source": [
    "### Classification Models"
   ]
  },
  {
   "cell_type": "markdown",
   "metadata": {},
   "source": [
    "#### Logistic Regression"
   ]
  },
  {
   "cell_type": "code",
   "execution_count": 19,
   "metadata": {},
   "outputs": [
    {
     "name": "stdout",
     "output_type": "stream",
     "text": [
      "Accuracy: 0.72\n",
      "Classification Report:\n",
      "                            precision    recall  f1-score   support\n",
      "\n",
      "               ACCOUNTANT       0.77      0.90      0.83        30\n",
      "                 ADVOCATE       0.51      0.60      0.55        30\n",
      "              AGRICULTURE       1.00      0.19      0.32        16\n",
      "                  APPAREL       0.82      0.38      0.51        24\n",
      "                     ARTS       0.38      0.12      0.18        26\n",
      "               AUTOMOBILE       0.00      0.00      0.00         9\n",
      "                 AVIATION       0.67      0.76      0.71        29\n",
      "                 Advocate       1.00      0.60      0.75         5\n",
      "                     Arts       1.00      1.00      1.00         9\n",
      "       Automation Testing       1.00      1.00      1.00         6\n",
      "                  BANKING       0.67      0.62      0.64        29\n",
      "                      BPO       0.00      0.00      0.00         5\n",
      "     BUSINESS-DEVELOPMENT       0.43      0.60      0.50        30\n",
      "               Blockchain       1.00      1.00      1.00        10\n",
      "         Business Analyst       1.00      1.00      1.00         7\n",
      "                     CHEF       0.90      0.87      0.88        30\n",
      "             CONSTRUCTION       0.66      0.82      0.73        28\n",
      "               CONSULTANT       0.71      0.17      0.28        29\n",
      "           Civil Engineer       1.00      0.67      0.80         6\n",
      "                 DESIGNER       0.74      0.63      0.68        27\n",
      "            DIGITAL-MEDIA       0.72      0.54      0.62        24\n",
      "             Data Science       1.00      1.00      1.00        10\n",
      "                 Database       1.00      1.00      1.00         8\n",
      "          DevOps Engineer       1.00      0.86      0.92        14\n",
      "         DotNet Developer       1.00      1.00      1.00         7\n",
      "              ENGINEERING       0.62      0.60      0.61        30\n",
      "            ETL Developer       1.00      1.00      1.00        10\n",
      "   Electrical Engineering       1.00      1.00      1.00         7\n",
      "                  FINANCE       0.71      0.57      0.63        30\n",
      "                  FITNESS       0.83      0.66      0.73        29\n",
      "               HEALTHCARE       0.50      0.62      0.55        29\n",
      "                       HR       0.74      0.95      0.83        39\n",
      "                   Hadoop       1.00      1.00      1.00        10\n",
      "       Health and fitness       1.00      1.00      1.00         7\n",
      "   INFORMATION-TECHNOLOGY       0.55      0.93      0.69        30\n",
      "           Java Developer       1.00      1.00      1.00        21\n",
      "      Mechanical Engineer       1.00      1.00      1.00        10\n",
      "Network Security Engineer       1.00      1.00      1.00         6\n",
      "       Operations Manager       1.00      1.00      1.00        10\n",
      "                      PMO       1.00      1.00      1.00         7\n",
      "         PUBLIC-RELATIONS       0.58      0.79      0.67        28\n",
      "         Python Developer       1.00      1.00      1.00        12\n",
      "                    SALES       0.31      0.52      0.39        29\n",
      "            SAP Developer       1.00      1.00      1.00         6\n",
      "                    Sales       1.00      1.00      1.00        10\n",
      "                  TEACHER       0.57      0.81      0.67        26\n",
      "                  Testing       1.00      1.00      1.00        17\n",
      "            Web Designing       1.00      1.00      1.00        11\n",
      "\n",
      "                 accuracy                           0.72       862\n",
      "                macro avg       0.80      0.77      0.76       862\n",
      "             weighted avg       0.73      0.72      0.70       862\n",
      "\n"
     ]
    }
   ],
   "source": [
    "model_lgr = LogisticRegression()\n",
    "model_lgr.fit(x_train, y_train)\n",
    "\n",
    "y_pred = model_lgr.predict(x_test)\n",
    "accuracy_lgr = accuracy_score(y_test, y_pred)\n",
    "\n",
    "\n",
    "print(f\"Accuracy: {accuracy_lgr:.2f}\")\n",
    "print(\"Classification Report:\\n\", classification_report(y_test, y_pred))\n"
   ]
  },
  {
   "cell_type": "markdown",
   "metadata": {},
   "source": [
    "#### KNN Classifier"
   ]
  },
  {
   "cell_type": "code",
   "execution_count": null,
   "metadata": {},
   "outputs": [],
   "source": []
  },
  {
   "cell_type": "markdown",
   "metadata": {},
   "source": [
    "#### Random Forest Classifier"
   ]
  }
 ],
 "metadata": {
  "kernelspec": {
   "display_name": "conda",
   "language": "python",
   "name": "python3"
  },
  "language_info": {
   "codemirror_mode": {
    "name": "ipython",
    "version": 3
   },
   "file_extension": ".py",
   "mimetype": "text/x-python",
   "name": "python",
   "nbconvert_exporter": "python",
   "pygments_lexer": "ipython3",
   "version": "3.11.10"
  }
 },
 "nbformat": 4,
 "nbformat_minor": 4
}
