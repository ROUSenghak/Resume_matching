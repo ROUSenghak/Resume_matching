{
 "cells": [
  {
   "cell_type": "code",
   "execution_count": 84,
   "metadata": {},
   "outputs": [
    {
     "name": "stdout",
     "output_type": "stream",
     "text": [
      "Requirement already satisfied: numpy in /Applications/anaconda3/envs/conda/lib/python3.11/site-packages (1.26.4)\n",
      "Requirement already satisfied: pandas in /Applications/anaconda3/envs/conda/lib/python3.11/site-packages (2.2.3)\n",
      "Requirement already satisfied: seaborn in /Applications/anaconda3/envs/conda/lib/python3.11/site-packages (0.13.2)\n",
      "Requirement already satisfied: matplotlib in /Applications/anaconda3/envs/conda/lib/python3.11/site-packages (3.9.2)\n",
      "Requirement already satisfied: scikit-learn in /Applications/anaconda3/envs/conda/lib/python3.11/site-packages (1.5.1)\n",
      "Requirement already satisfied: xgboost in /Applications/anaconda3/envs/conda/lib/python3.11/site-packages (2.1.3)\n",
      "Requirement already satisfied: python-dateutil>=2.8.2 in /Applications/anaconda3/envs/conda/lib/python3.11/site-packages (from pandas) (2.9.0.post0)\n",
      "Requirement already satisfied: pytz>=2020.1 in /Applications/anaconda3/envs/conda/lib/python3.11/site-packages (from pandas) (2024.1)\n",
      "Requirement already satisfied: tzdata>=2022.7 in /Applications/anaconda3/envs/conda/lib/python3.11/site-packages (from pandas) (2023.3)\n",
      "Requirement already satisfied: contourpy>=1.0.1 in /Applications/anaconda3/envs/conda/lib/python3.11/site-packages (from matplotlib) (1.3.1)\n",
      "Requirement already satisfied: cycler>=0.10 in /Applications/anaconda3/envs/conda/lib/python3.11/site-packages (from matplotlib) (0.11.0)\n",
      "Requirement already satisfied: fonttools>=4.22.0 in /Applications/anaconda3/envs/conda/lib/python3.11/site-packages (from matplotlib) (4.51.0)\n",
      "Requirement already satisfied: kiwisolver>=1.3.1 in /Applications/anaconda3/envs/conda/lib/python3.11/site-packages (from matplotlib) (1.4.4)\n",
      "Requirement already satisfied: packaging>=20.0 in /Applications/anaconda3/envs/conda/lib/python3.11/site-packages (from matplotlib) (24.1)\n",
      "Requirement already satisfied: pillow>=8 in /Applications/anaconda3/envs/conda/lib/python3.11/site-packages (from matplotlib) (11.0.0)\n",
      "Requirement already satisfied: pyparsing>=2.3.1 in /Applications/anaconda3/envs/conda/lib/python3.11/site-packages (from matplotlib) (3.2.0)\n",
      "Requirement already satisfied: scipy>=1.6.0 in /Applications/anaconda3/envs/conda/lib/python3.11/site-packages (from scikit-learn) (1.14.1)\n",
      "Requirement already satisfied: joblib>=1.2.0 in /Applications/anaconda3/envs/conda/lib/python3.11/site-packages (from scikit-learn) (1.4.2)\n",
      "Requirement already satisfied: threadpoolctl>=3.1.0 in /Applications/anaconda3/envs/conda/lib/python3.11/site-packages (from scikit-learn) (3.5.0)\n",
      "Requirement already satisfied: six>=1.5 in /Applications/anaconda3/envs/conda/lib/python3.11/site-packages (from python-dateutil>=2.8.2->pandas) (1.16.0)\n"
     ]
    }
   ],
   "source": [
    "! pip install numpy pandas seaborn matplotlib scikit-learn xgboost"
   ]
  },
  {
   "cell_type": "code",
   "execution_count": 85,
   "metadata": {},
   "outputs": [],
   "source": [
    "import numpy as np\n",
    "import pandas as pd\n",
    "import seaborn as sns\n",
    "sns.set_style('darkgrid')\n",
    "%matplotlib inline\n",
    "import matplotlib.pyplot as plt\n",
    "import matplotlib.pylab as pylab\n",
    "from sklearn.model_selection import train_test_split\n",
    "from sklearn.feature_extraction.text import TfidfVectorizer\n",
    "\n",
    "from sklearn.svm import SVC\n",
    "from xgboost import XGBClassifier\n",
    "from sklearn.naive_bayes import MultinomialNB\n",
    "from sklearn.ensemble import BaggingClassifier\n",
    "from sklearn.ensemble import AdaBoostClassifier\n",
    "from sklearn.tree import DecisionTreeClassifier\n",
    "from sklearn.neighbors import KNeighborsClassifier\n",
    "from sklearn.ensemble import RandomForestClassifier\n",
    "from sklearn.linear_model import LogisticRegression\n",
    "from sklearn.ensemble import GradientBoostingClassifier\n",
    "from sklearn.metrics import confusion_matrix, accuracy_score\n",
    "from sklearn.model_selection import train_test_split, cross_val_score\n",
    "from sklearn.metrics import f1_score, classification_report, precision_score, recall_score\n",
    "\n",
    "\n",
    "import warnings\n",
    "warnings.filterwarnings('ignore')\n",
    "\n",
    "# job = pd.read_csv('/Users/macbookair/Desktop/project/Resume_Analyser/resume-job-matching/data/Preprocessed/Cleaned_job.csv')\n",
    "resume = pd.read_csv('/Users/macbookair/Desktop/project/Resume_Analyser/resume-job-matching/data/Preprocessed/Cleaned_resume.csv')"
   ]
  },
  {
   "cell_type": "code",
   "execution_count": 86,
   "metadata": {},
   "outputs": [],
   "source": [
    "pd.set_option('max_colwidth', 800)"
   ]
  },
  {
   "cell_type": "code",
   "execution_count": 87,
   "metadata": {},
   "outputs": [
    {
     "data": {
      "text/html": [
       "<div>\n",
       "<style scoped>\n",
       "    .dataframe tbody tr th:only-of-type {\n",
       "        vertical-align: middle;\n",
       "    }\n",
       "\n",
       "    .dataframe tbody tr th {\n",
       "        vertical-align: top;\n",
       "    }\n",
       "\n",
       "    .dataframe thead th {\n",
       "        text-align: right;\n",
       "    }\n",
       "</style>\n",
       "<table border=\"1\" class=\"dataframe\">\n",
       "  <thead>\n",
       "    <tr style=\"text-align: right;\">\n",
       "      <th></th>\n",
       "      <th>Category</th>\n",
       "      <th>cleaned_resume</th>\n",
       "      <th>LabelEncoding</th>\n",
       "    </tr>\n",
       "  </thead>\n",
       "  <tbody>\n",
       "    <tr>\n",
       "      <th>0</th>\n",
       "      <td>Data Science</td>\n",
       "      <td>programming language python pandas numpy scipy scikitlearn matplotlib sql java javascriptjquery machine learn regression svm nave baye knn random forest decision tree boost technique cluster analysis word embed sentiment analysis natural language process dimensionality reduction topic model lda nmf pca neural net database visualization mysql sqlserver cassandra hbase elasticsearch d3js dcjs plotly kibana matplotlib ggplot tableau other regular expression html css angular 6 logstash kafka python flask git docker computer vision open cv understand deep learningeducation detail datum science assurance associate datum science assurance associate ernst young llp skill detail javascript exprience 24 month jquery exprience 24 month python exprience 24 monthscompany detail company ernst young ...</td>\n",
       "      <td>6</td>\n",
       "    </tr>\n",
       "    <tr>\n",
       "      <th>1</th>\n",
       "      <td>Data Science</td>\n",
       "      <td>education detail may 2013 may 2017 uitrgpv data scientist data scientist matelabs skill detail python exprience less 1 year month statsmodels exprience 12 month aw exprience less 1 year month machine learn exprience less 1 year month sklearn exprience less 1 year month scipy exprience less 1 year month keras exprience less 1 year monthscompany detail company matelab description ml platform business professional dummy enthusiast 60a koramangala 5th block achievementstask behind sukh sagar bengaluru india develop deploy auto preprocessing step machine learn mainly miss value treatment outli detection encode scale feature selection dimensionality reduction deploy automate classification regression model linkedincominadityarathore b4600b146 reasearch deploy time series forecasting model ar...</td>\n",
       "      <td>6</td>\n",
       "    </tr>\n",
       "    <tr>\n",
       "      <th>2</th>\n",
       "      <td>Data Science</td>\n",
       "      <td>area interest deep learn control system design programming inpython electric machinery web development analytic technical activity q hindustan aeronautic limit bangalore 4 week guidance mr satish senior engineer hangar mirage 2000 fighter aircraft technical programming matlab python java labview python webframeworkdjango flask ltspiceintermediate language mipowerintermediate github gitbash jupyter notebook xampp mysqlbasics python software package interpretersanaconda python2 python3 pycharm java ideeclipse operating system windows ubuntu debiankali linux education detail january 2019 btech electrical electronics engineering manipal institute technology january 2015 deeksha center january 2013 little flower public school august 2000 manipal academy high datum science data science elect...</td>\n",
       "      <td>6</td>\n",
       "    </tr>\n",
       "    <tr>\n",
       "      <th>3</th>\n",
       "      <td>Data Science</td>\n",
       "      <td>r python sap hana tableau sap hana sql sap hana pal ms sql sap lumira c linear programming datum model advance analytic scm analytic retail analytic social medium analytic nlp education detail january 2017 january 2018 pgdm business analytic great lakes institute management illinois institute technology january 2013 bachelor engineering electronic communication bengaluru karnataka new horizon college engineering bangalore visvesvaraya technological university datum science consultant consultant deloitte usi skill detail linear programming exprience 6 month retail exprience 6 month retail marketing exprience 6 month scm exprience 6 month sql exprience less 1 year month deep learn exprience less 1 year month machine learn exprience less 1 year month python exprience less 1 year month r e...</td>\n",
       "      <td>6</td>\n",
       "    </tr>\n",
       "  </tbody>\n",
       "</table>\n",
       "</div>"
      ],
      "text/plain": [
       "       Category  \\\n",
       "0  Data Science   \n",
       "1  Data Science   \n",
       "2  Data Science   \n",
       "3  Data Science   \n",
       "\n",
       "                                                                                                                                                                                                                                                                                                                                                                                                                                                                                                                                                                                                                                                                                                                                                                                                                    cleaned_resume  \\\n",
       "0  programming language python pandas numpy scipy scikitlearn matplotlib sql java javascriptjquery machine learn regression svm nave baye knn random forest decision tree boost technique cluster analysis word embed sentiment analysis natural language process dimensionality reduction topic model lda nmf pca neural net database visualization mysql sqlserver cassandra hbase elasticsearch d3js dcjs plotly kibana matplotlib ggplot tableau other regular expression html css angular 6 logstash kafka python flask git docker computer vision open cv understand deep learningeducation detail datum science assurance associate datum science assurance associate ernst young llp skill detail javascript exprience 24 month jquery exprience 24 month python exprience 24 monthscompany detail company ernst young ...   \n",
       "1  education detail may 2013 may 2017 uitrgpv data scientist data scientist matelabs skill detail python exprience less 1 year month statsmodels exprience 12 month aw exprience less 1 year month machine learn exprience less 1 year month sklearn exprience less 1 year month scipy exprience less 1 year month keras exprience less 1 year monthscompany detail company matelab description ml platform business professional dummy enthusiast 60a koramangala 5th block achievementstask behind sukh sagar bengaluru india develop deploy auto preprocessing step machine learn mainly miss value treatment outli detection encode scale feature selection dimensionality reduction deploy automate classification regression model linkedincominadityarathore b4600b146 reasearch deploy time series forecasting model ar...   \n",
       "2  area interest deep learn control system design programming inpython electric machinery web development analytic technical activity q hindustan aeronautic limit bangalore 4 week guidance mr satish senior engineer hangar mirage 2000 fighter aircraft technical programming matlab python java labview python webframeworkdjango flask ltspiceintermediate language mipowerintermediate github gitbash jupyter notebook xampp mysqlbasics python software package interpretersanaconda python2 python3 pycharm java ideeclipse operating system windows ubuntu debiankali linux education detail january 2019 btech electrical electronics engineering manipal institute technology january 2015 deeksha center january 2013 little flower public school august 2000 manipal academy high datum science data science elect...   \n",
       "3  r python sap hana tableau sap hana sql sap hana pal ms sql sap lumira c linear programming datum model advance analytic scm analytic retail analytic social medium analytic nlp education detail january 2017 january 2018 pgdm business analytic great lakes institute management illinois institute technology january 2013 bachelor engineering electronic communication bengaluru karnataka new horizon college engineering bangalore visvesvaraya technological university datum science consultant consultant deloitte usi skill detail linear programming exprience 6 month retail exprience 6 month retail marketing exprience 6 month scm exprience 6 month sql exprience less 1 year month deep learn exprience less 1 year month machine learn exprience less 1 year month python exprience less 1 year month r e...   \n",
       "\n",
       "   LabelEncoding  \n",
       "0              6  \n",
       "1              6  \n",
       "2              6  \n",
       "3              6  "
      ]
     },
     "execution_count": 87,
     "metadata": {},
     "output_type": "execute_result"
    }
   ],
   "source": [
    "resume.head(4)"
   ]
  },
  {
   "cell_type": "code",
   "execution_count": 88,
   "metadata": {},
   "outputs": [
    {
     "data": {
      "text/html": [
       "<div>\n",
       "<style scoped>\n",
       "    .dataframe tbody tr th:only-of-type {\n",
       "        vertical-align: middle;\n",
       "    }\n",
       "\n",
       "    .dataframe tbody tr th {\n",
       "        vertical-align: top;\n",
       "    }\n",
       "\n",
       "    .dataframe thead th {\n",
       "        text-align: right;\n",
       "    }\n",
       "</style>\n",
       "<table border=\"1\" class=\"dataframe\">\n",
       "  <thead>\n",
       "    <tr style=\"text-align: right;\">\n",
       "      <th></th>\n",
       "      <th>LabelEncoding</th>\n",
       "    </tr>\n",
       "  </thead>\n",
       "  <tbody>\n",
       "    <tr>\n",
       "      <th>count</th>\n",
       "      <td>962.000000</td>\n",
       "    </tr>\n",
       "    <tr>\n",
       "      <th>mean</th>\n",
       "      <td>12.968815</td>\n",
       "    </tr>\n",
       "    <tr>\n",
       "      <th>std</th>\n",
       "      <td>7.051694</td>\n",
       "    </tr>\n",
       "    <tr>\n",
       "      <th>min</th>\n",
       "      <td>0.000000</td>\n",
       "    </tr>\n",
       "    <tr>\n",
       "      <th>25%</th>\n",
       "      <td>7.000000</td>\n",
       "    </tr>\n",
       "    <tr>\n",
       "      <th>50%</th>\n",
       "      <td>13.000000</td>\n",
       "    </tr>\n",
       "    <tr>\n",
       "      <th>75%</th>\n",
       "      <td>19.000000</td>\n",
       "    </tr>\n",
       "    <tr>\n",
       "      <th>max</th>\n",
       "      <td>24.000000</td>\n",
       "    </tr>\n",
       "  </tbody>\n",
       "</table>\n",
       "</div>"
      ],
      "text/plain": [
       "       LabelEncoding\n",
       "count     962.000000\n",
       "mean       12.968815\n",
       "std         7.051694\n",
       "min         0.000000\n",
       "25%         7.000000\n",
       "50%        13.000000\n",
       "75%        19.000000\n",
       "max        24.000000"
      ]
     },
     "execution_count": 88,
     "metadata": {},
     "output_type": "execute_result"
    }
   ],
   "source": [
    "resume.describe()"
   ]
  },
  {
   "cell_type": "code",
   "execution_count": 89,
   "metadata": {},
   "outputs": [
    {
     "data": {
      "text/plain": [
       "Category          0\n",
       "cleaned_resume    0\n",
       "LabelEncoding     0\n",
       "dtype: int64"
      ]
     },
     "execution_count": 89,
     "metadata": {},
     "output_type": "execute_result"
    }
   ],
   "source": [
    "resume.isnull().sum()"
   ]
  },
  {
   "cell_type": "code",
   "execution_count": null,
   "metadata": {},
   "outputs": [],
   "source": []
  },
  {
   "cell_type": "markdown",
   "metadata": {},
   "source": [
    "### Train - Test Split"
   ]
  },
  {
   "cell_type": "code",
   "execution_count": 90,
   "metadata": {},
   "outputs": [],
   "source": [
    "x = resume['cleaned_resume'].values\n",
    "y = resume['Category'].values"
   ]
  },
  {
   "cell_type": "code",
   "execution_count": 91,
   "metadata": {},
   "outputs": [
    {
     "data": {
      "text/plain": [
       "((721,), (241,))"
      ]
     },
     "execution_count": 91,
     "metadata": {},
     "output_type": "execute_result"
    }
   ],
   "source": [
    "x_train, x_test, y_train, y_test = train_test_split(x,y, random_state=45, test_size=0.25,stratify=y)\n",
    "x_train.shape, x_test.shape"
   ]
  },
  {
   "cell_type": "code",
   "execution_count": null,
   "metadata": {},
   "outputs": [],
   "source": []
  },
  {
   "cell_type": "markdown",
   "metadata": {},
   "source": [
    "### TF-IDF Vectorization"
   ]
  },
  {
   "cell_type": "code",
   "execution_count": 92,
   "metadata": {},
   "outputs": [],
   "source": [
    "tfidf_vector = TfidfVectorizer(sublinear_tf=True,stop_words='english')"
   ]
  },
  {
   "cell_type": "code",
   "execution_count": 93,
   "metadata": {},
   "outputs": [],
   "source": [
    "x_train = tfidf_vector.fit_transform(x_train)\n",
    "x_test = tfidf_vector.transform(x_test)"
   ]
  },
  {
   "cell_type": "code",
   "execution_count": 94,
   "metadata": {},
   "outputs": [
    {
     "data": {
      "text/plain": [
       "((721, 6736), (241, 6736))"
      ]
     },
     "execution_count": 94,
     "metadata": {},
     "output_type": "execute_result"
    }
   ],
   "source": [
    "x_train.shape, x_test.shape"
   ]
  },
  {
   "cell_type": "code",
   "execution_count": 95,
   "metadata": {},
   "outputs": [
    {
     "name": "stdout",
     "output_type": "stream",
     "text": [
      "['Mechanical Engineer' 'Java Developer' 'HR' 'Testing' 'Hadoop'\n",
      " 'Automation Testing' 'Hadoop' 'Web Designing' 'Mechanical Engineer'\n",
      " 'Electrical Engineering' 'Python Developer' 'Mechanical Engineer'\n",
      " 'Advocate' 'Python Developer' 'Sales' 'Data Science' 'Python Developer'\n",
      " 'Python Developer' 'Java Developer' 'Java Developer' 'HR' 'Web Designing'\n",
      " 'Operations Manager' 'Testing' 'Operations Manager' 'Operations Manager'\n",
      " 'Database' 'Mechanical Engineer' 'Sales' 'Hadoop' 'Health and fitness'\n",
      " 'Arts' 'Python Developer' 'Sales' 'Automation Testing' 'Sales'\n",
      " 'DevOps Engineer' 'Java Developer' 'Testing' 'ETL Developer'\n",
      " 'Java Developer' 'DevOps Engineer' 'Java Developer' 'Java Developer'\n",
      " 'DevOps Engineer' 'Testing' 'Business Analyst' 'Testing' 'Blockchain'\n",
      " 'ETL Developer' 'Advocate' 'Health and fitness' 'Business Analyst'\n",
      " 'Health and fitness' 'Civil Engineer' 'Java Developer' 'Civil Engineer'\n",
      " 'Arts' 'Web Designing' 'Sales' 'Electrical Engineering'\n",
      " 'Mechanical Engineer' 'Data Science' 'Arts' 'Hadoop' 'HR'\n",
      " 'Business Analyst' 'Advocate' 'Advocate' 'Data Science'\n",
      " 'Network Security Engineer' 'Arts' 'Advocate' 'HR' 'Mechanical Engineer'\n",
      " 'Sales' 'Java Developer' 'SAP Developer' 'ETL Developer'\n",
      " 'DevOps Engineer' 'Arts' 'Python Developer' 'PMO' 'Java Developer'\n",
      " 'Network Security Engineer' 'Mechanical Engineer' 'Health and fitness'\n",
      " 'Operations Manager' 'Electrical Engineering' 'Java Developer'\n",
      " 'ETL Developer' 'SAP Developer' 'HR' 'Java Developer' 'Python Developer'\n",
      " 'HR' 'Arts' 'Automation Testing' 'Blockchain' 'Python Developer'\n",
      " 'Advocate' 'Business Analyst' 'Health and fitness' 'Blockchain'\n",
      " 'Java Developer' 'Sales' 'Database' 'Operations Manager'\n",
      " 'DevOps Engineer' 'Python Developer' 'Web Designing' 'Civil Engineer'\n",
      " 'Sales' 'PMO' 'Python Developer' 'ETL Developer' 'Java Developer'\n",
      " 'Hadoop' 'Arts' 'PMO' 'SAP Developer' 'PMO' 'Mechanical Engineer'\n",
      " 'Web Designing' 'SAP Developer' 'Mechanical Engineer' 'ETL Developer'\n",
      " 'Web Designing' 'Operations Manager' 'Blockchain' 'Operations Manager'\n",
      " 'Web Designing' 'Database' 'DevOps Engineer' 'Testing' 'Testing' 'Hadoop'\n",
      " 'Sales' 'Operations Manager' 'DevOps Engineer' 'Java Developer' 'Arts'\n",
      " 'HR' 'DotNet Developer' 'Database' 'Python Developer'\n",
      " 'Health and fitness' 'Python Developer' 'Testing' 'Web Designing'\n",
      " 'Blockchain' 'Web Designing' 'PMO' 'Electrical Engineering' 'Sales'\n",
      " 'Network Security Engineer' 'Operations Manager' 'Java Developer'\n",
      " 'Automation Testing' 'Advocate' 'Electrical Engineering'\n",
      " 'Business Analyst' 'Blockchain' 'HR' 'Testing' 'Data Science'\n",
      " 'Web Designing' 'Testing' 'Mechanical Engineer' 'Operations Manager'\n",
      " 'Health and fitness' 'Testing' 'SAP Developer' 'Sales' 'Civil Engineer'\n",
      " 'Testing' 'Testing' 'SAP Developer' 'ETL Developer' 'DotNet Developer'\n",
      " 'Advocate' 'Python Developer' 'Civil Engineer' 'DotNet Developer'\n",
      " 'Web Designing' 'Java Developer' 'Hadoop' 'Arts' 'Blockchain'\n",
      " 'Health and fitness' 'ETL Developer' 'Python Developer' 'DevOps Engineer'\n",
      " 'Java Developer' 'Business Analyst' 'Java Developer' 'Sales'\n",
      " 'Automation Testing' 'Network Security Engineer' 'Hadoop'\n",
      " 'Operations Manager' 'Java Developer' 'Electrical Engineering' 'PMO'\n",
      " 'Data Science' 'Civil Engineer' 'Sales' 'Testing' 'DevOps Engineer'\n",
      " 'Blockchain' 'Sales' 'Sales' 'ETL Developer' 'Python Developer'\n",
      " 'ETL Developer' 'Database' 'Automation Testing' 'Python Developer'\n",
      " 'Java Developer' 'Python Developer' 'DevOps Engineer' 'PMO'\n",
      " 'Operations Manager' 'Network Security Engineer' 'Hadoop'\n",
      " 'Network Security Engineer' 'PMO' 'Hadoop' 'Testing' 'Testing'\n",
      " 'Java Developer' 'Blockchain' 'Hadoop' 'Hadoop' 'Blockchain' 'HR'\n",
      " 'Operations Manager' 'Blockchain' 'Operations Manager' 'Arts' 'Testing'\n",
      " 'Civil Engineer' 'Web Designing' 'Network Security Engineer'\n",
      " 'DevOps Engineer' 'Sales' 'Java Developer' 'Testing' 'Operations Manager'\n",
      " 'SAP Developer' 'Web Designing' 'Testing' 'Sales' 'Web Designing'\n",
      " 'ETL Developer' 'HR' 'Network Security Engineer' 'Health and fitness'\n",
      " 'Hadoop' 'Database' 'Health and fitness' 'Automation Testing'\n",
      " 'Blockchain' 'Sales' 'Hadoop' 'SAP Developer' 'HR' 'Data Science'\n",
      " 'ETL Developer' 'Operations Manager' 'Testing' 'Sales' 'SAP Developer'\n",
      " 'Java Developer' 'PMO' 'Mechanical Engineer' 'Java Developer'\n",
      " 'Electrical Engineering' 'HR' 'Sales' 'PMO' 'Electrical Engineering'\n",
      " 'DevOps Engineer' 'Hadoop' 'Electrical Engineering' 'Java Developer' 'HR'\n",
      " 'Data Science' 'HR' 'Hadoop' 'DevOps Engineer' 'Civil Engineer' 'Testing'\n",
      " 'Business Analyst' 'Network Security Engineer' 'PMO' 'Automation Testing'\n",
      " 'DevOps Engineer' 'Web Designing' 'DotNet Developer' 'Testing'\n",
      " 'Electrical Engineering' 'Java Developer' 'Web Designing' 'Arts'\n",
      " 'Python Developer' 'Arts' 'PMO' 'DotNet Developer' 'Java Developer'\n",
      " 'Testing' 'Java Developer' 'Testing' 'Python Developer' 'DevOps Engineer'\n",
      " 'Testing' 'Data Science' 'Business Analyst' 'Testing' 'DevOps Engineer'\n",
      " 'Database' 'Business Analyst' 'Testing' 'Python Developer'\n",
      " 'DevOps Engineer' 'Java Developer' 'HR' 'HR' 'Advocate' 'Data Science'\n",
      " 'DevOps Engineer' 'Web Designing' 'Operations Manager' 'Web Designing'\n",
      " 'Mechanical Engineer' 'Hadoop' 'DotNet Developer' 'Automation Testing'\n",
      " 'Civil Engineer' 'PMO' 'HR' 'Data Science' 'Hadoop' 'Health and fitness'\n",
      " 'Mechanical Engineer' 'Testing' 'Automation Testing' 'Arts'\n",
      " 'Python Developer' 'ETL Developer' 'Mechanical Engineer'\n",
      " 'Business Analyst' 'Blockchain' 'Hadoop' 'PMO'\n",
      " 'Network Security Engineer' 'SAP Developer' 'Blockchain'\n",
      " 'Network Security Engineer' 'ETL Developer' 'Arts' 'Database' 'Hadoop'\n",
      " 'Mechanical Engineer' 'HR' 'SAP Developer' 'Testing' 'HR'\n",
      " 'Automation Testing' 'Java Developer' 'Operations Manager' 'Advocate'\n",
      " 'SAP Developer' 'Business Analyst' 'Arts' 'DevOps Engineer'\n",
      " 'Web Designing' 'Civil Engineer' 'Java Developer' 'DotNet Developer'\n",
      " 'DevOps Engineer' 'Automation Testing' 'ETL Developer'\n",
      " 'Automation Testing' 'HR' 'ETL Developer' 'Testing' 'Java Developer'\n",
      " 'Data Science' 'Mechanical Engineer' 'Blockchain' 'Database'\n",
      " 'Operations Manager' 'Sales' 'PMO' 'Mechanical Engineer'\n",
      " 'Python Developer' 'Arts' 'Java Developer' 'Data Science' 'Advocate'\n",
      " 'Java Developer' 'Arts' 'Data Science' 'Arts' 'Database'\n",
      " 'Mechanical Engineer' 'HR' 'Data Science' 'DotNet Developer'\n",
      " 'DevOps Engineer' 'Java Developer' 'Network Security Engineer' 'Arts'\n",
      " 'Arts' 'DotNet Developer' 'Testing' 'Data Science' 'ETL Developer'\n",
      " 'Operations Manager' 'Network Security Engineer' 'DotNet Developer'\n",
      " 'Health and fitness' 'Operations Manager' 'SAP Developer' 'Advocate'\n",
      " 'Health and fitness' 'HR' 'Testing' 'ETL Developer' 'Civil Engineer'\n",
      " 'Sales' 'Automation Testing' 'Database' 'Electrical Engineering'\n",
      " 'Web Designing' 'Java Developer' 'Operations Manager' 'Java Developer'\n",
      " 'DevOps Engineer' 'DevOps Engineer' 'DotNet Developer' 'Testing' 'Sales'\n",
      " 'Advocate' 'DevOps Engineer' 'Mechanical Engineer' 'Web Designing'\n",
      " 'Python Developer' 'Python Developer' 'Database' 'Health and fitness'\n",
      " 'Java Developer' 'Blockchain' 'Sales' 'DotNet Developer'\n",
      " 'DevOps Engineer' 'PMO' 'Python Developer' 'Mechanical Engineer' 'Hadoop'\n",
      " 'DotNet Developer' 'Data Science' 'Electrical Engineering'\n",
      " 'Network Security Engineer' 'Advocate' 'Hadoop' 'PMO' 'HR' 'Data Science'\n",
      " 'Python Developer' 'ETL Developer' 'Testing' 'Blockchain'\n",
      " 'Electrical Engineering' 'Operations Manager' 'Database' 'Web Designing'\n",
      " 'ETL Developer' 'Testing' 'Hadoop' 'Electrical Engineering'\n",
      " 'SAP Developer' 'Python Developer' 'SAP Developer' 'Blockchain' 'PMO'\n",
      " 'HR' 'Java Developer' 'Data Science' 'Python Developer' 'Java Developer'\n",
      " 'Health and fitness' 'Electrical Engineering' 'HR'\n",
      " 'Network Security Engineer' 'Data Science' 'Hadoop' 'DotNet Developer'\n",
      " 'DotNet Developer' 'Mechanical Engineer' 'Python Developer' 'Hadoop'\n",
      " 'Civil Engineer' 'ETL Developer' 'Data Science' 'Web Designing'\n",
      " 'DotNet Developer' 'HR' 'Health and fitness' 'HR' 'PMO' 'Testing'\n",
      " 'Mechanical Engineer' 'Business Analyst' 'Web Designing' 'Civil Engineer'\n",
      " 'DevOps Engineer' 'DotNet Developer' 'Database' 'Data Science'\n",
      " 'Electrical Engineering' 'DevOps Engineer' 'Database' 'Web Designing'\n",
      " 'Python Developer' 'Mechanical Engineer' 'DevOps Engineer' 'Testing'\n",
      " 'Database' 'Java Developer' 'Hadoop' 'Automation Testing' 'Testing'\n",
      " 'Civil Engineer' 'HR' 'DotNet Developer' 'Database' 'Operations Manager'\n",
      " 'Testing' 'Java Developer' 'Testing' 'Testing' 'DevOps Engineer' 'Hadoop'\n",
      " 'Arts' 'DotNet Developer' 'HR' 'Testing' 'Java Developer' 'Data Science'\n",
      " 'Blockchain' 'Java Developer' 'Web Designing' 'HR' 'Data Science'\n",
      " 'Business Analyst' 'Business Analyst' 'Database' 'Java Developer'\n",
      " 'ETL Developer' 'PMO' 'Automation Testing' 'Electrical Engineering'\n",
      " 'Java Developer' 'Health and fitness' 'Network Security Engineer'\n",
      " 'Data Science' 'Sales' 'Java Developer' 'Civil Engineer' 'Database'\n",
      " 'Electrical Engineering' 'DevOps Engineer' 'Web Designing' 'Testing'\n",
      " 'Data Science' 'Arts' 'PMO' 'Java Developer' 'Sales' 'Java Developer'\n",
      " 'DevOps Engineer' 'Python Developer' 'Health and fitness'\n",
      " 'Mechanical Engineer' 'Electrical Engineering' 'Operations Manager'\n",
      " 'DevOps Engineer' 'SAP Developer' 'Mechanical Engineer' 'Data Science'\n",
      " 'Database' 'Civil Engineer' 'Operations Manager' 'Arts'\n",
      " 'Python Developer' 'Blockchain' 'Arts' 'Business Analyst' 'Testing'\n",
      " 'Arts' 'Electrical Engineering' 'DevOps Engineer' 'Java Developer'\n",
      " 'Sales' 'ETL Developer' 'Database' 'Automation Testing' 'Web Designing'\n",
      " 'Web Designing' 'Health and fitness' 'Hadoop' 'Blockchain'\n",
      " 'Operations Manager' 'ETL Developer' 'Network Security Engineer'\n",
      " 'Java Developer' 'Testing' 'Operations Manager' 'Sales' 'Blockchain'\n",
      " 'Blockchain' 'Web Designing' 'Civil Engineer' 'Web Designing'\n",
      " 'Mechanical Engineer' 'Mechanical Engineer' 'Civil Engineer' 'Database'\n",
      " 'Health and fitness' 'DevOps Engineer' 'Hadoop' 'Arts' 'Blockchain'\n",
      " 'DevOps Engineer' 'Blockchain' 'Operations Manager' 'DevOps Engineer'\n",
      " 'Blockchain' 'HR' 'Java Developer' 'Java Developer' 'Java Developer'\n",
      " 'Java Developer' 'Python Developer' 'Java Developer' 'Blockchain'\n",
      " 'Data Science' 'ETL Developer' 'Network Security Engineer' 'Hadoop'\n",
      " 'DotNet Developer' 'Python Developer' 'PMO' 'Blockchain'\n",
      " 'DevOps Engineer' 'SAP Developer' 'Data Science' 'Web Designing'\n",
      " 'ETL Developer' 'Advocate' 'Database' 'Health and fitness'\n",
      " 'Electrical Engineering' 'Database' 'Business Analyst' 'Java Developer'\n",
      " 'Testing' 'DevOps Engineer' 'Java Developer' 'Testing' 'DevOps Engineer'\n",
      " 'Python Developer' 'Business Analyst' 'DotNet Developer' 'Sales' 'HR'\n",
      " 'ETL Developer' 'Automation Testing' 'Business Analyst' 'Arts'\n",
      " 'DevOps Engineer' 'Java Developer' 'ETL Developer' 'Testing'\n",
      " 'DevOps Engineer' 'Business Analyst' 'Testing' 'Blockchain'\n",
      " 'Data Science' 'Testing' 'HR' 'Blockchain' 'Web Designing'\n",
      " 'Java Developer' 'Python Developer' 'Java Developer' 'Sales'\n",
      " 'Automation Testing' 'Hadoop' 'Network Security Engineer'\n",
      " 'Automation Testing' 'Health and fitness' 'ETL Developer' 'ETL Developer'\n",
      " 'Testing' 'Operations Manager' 'Testing' 'Business Analyst'\n",
      " 'Mechanical Engineer' 'Web Designing' 'Electrical Engineering' 'Database'\n",
      " 'Mechanical Engineer' 'Business Analyst' 'SAP Developer' 'Data Science'\n",
      " 'Java Developer' 'Mechanical Engineer' 'PMO']\n",
      "['Testing' 'DevOps Engineer' 'HR' 'DotNet Developer' 'Database'\n",
      " 'Automation Testing' 'Operations Manager' 'Java Developer' 'Blockchain'\n",
      " 'Python Developer' 'Web Designing' 'Testing' 'Health and fitness'\n",
      " 'Civil Engineer' 'Arts' 'ETL Developer' 'PMO' 'Java Developer'\n",
      " 'ETL Developer' 'Network Security Engineer' 'Java Developer'\n",
      " 'Civil Engineer' 'Python Developer' 'Mechanical Engineer' 'ETL Developer'\n",
      " 'Business Analyst' 'ETL Developer' 'Mechanical Engineer' 'Database'\n",
      " 'Web Designing' 'Hadoop' 'Java Developer' 'Arts' 'Blockchain'\n",
      " 'Operations Manager' 'Java Developer' 'Hadoop' 'Automation Testing'\n",
      " 'Civil Engineer' 'Health and fitness' 'Data Science' 'Java Developer'\n",
      " 'Web Designing' 'HR' 'Network Security Engineer'\n",
      " 'Network Security Engineer' 'HR' 'ETL Developer' 'SAP Developer'\n",
      " 'Health and fitness' 'Sales' 'Java Developer' 'Sales' 'Sales' 'HR'\n",
      " 'Data Science' 'Arts' 'Python Developer' 'Mechanical Engineer' 'HR'\n",
      " 'Civil Engineer' 'Operations Manager' 'Business Analyst' 'Data Science'\n",
      " 'Testing' 'SAP Developer' 'DotNet Developer' 'Network Security Engineer'\n",
      " 'DevOps Engineer' 'Testing' 'Sales' 'Electrical Engineering' 'Testing'\n",
      " 'Blockchain' 'Blockchain' 'Web Designing' 'Java Developer'\n",
      " 'Health and fitness' 'Data Science' 'Operations Manager' 'Arts'\n",
      " 'SAP Developer' 'Java Developer' 'Python Developer' 'HR'\n",
      " 'DevOps Engineer' 'Testing' 'Business Analyst' 'PMO' 'Database'\n",
      " 'Mechanical Engineer' 'Operations Manager' 'Arts' 'Advocate' 'HR'\n",
      " 'Mechanical Engineer' 'Data Science' 'Data Science' 'PMO' 'ETL Developer'\n",
      " 'Civil Engineer' 'DevOps Engineer' 'Hadoop' 'Mechanical Engineer'\n",
      " 'Java Developer' 'Sales' 'SAP Developer' 'Testing' 'Java Developer'\n",
      " 'Business Analyst' 'DevOps Engineer' 'PMO' 'Testing' 'Java Developer'\n",
      " 'Blockchain' 'Advocate' 'Python Developer' 'PMO' 'DevOps Engineer'\n",
      " 'Java Developer' 'Testing' 'Mechanical Engineer' 'Operations Manager'\n",
      " 'Web Designing' 'Python Developer' 'Python Developer' 'DevOps Engineer'\n",
      " 'Automation Testing' 'Java Developer' 'SAP Developer' 'DevOps Engineer'\n",
      " 'Data Science' 'Web Designing' 'Operations Manager'\n",
      " 'Electrical Engineering' 'Hadoop' 'Hadoop' 'Blockchain'\n",
      " 'Automation Testing' 'ETL Developer' 'Electrical Engineering'\n",
      " 'DevOps Engineer' 'Web Designing' 'Arts' 'Sales' 'DotNet Developer'\n",
      " 'Blockchain' 'DotNet Developer' 'Network Security Engineer'\n",
      " 'Web Designing' 'Hadoop' 'Python Developer' 'Arts'\n",
      " 'Electrical Engineering' 'ETL Developer' 'Hadoop' 'Blockchain'\n",
      " 'Civil Engineer' 'Business Analyst' 'Health and fitness'\n",
      " 'Mechanical Engineer' 'Java Developer' 'Testing' 'Electrical Engineering'\n",
      " 'DevOps Engineer' 'Mechanical Engineer' 'Database' 'PMO' 'Testing'\n",
      " 'Hadoop' 'Sales' 'Advocate' 'Python Developer' 'Testing' 'Advocate'\n",
      " 'Database' 'Testing' 'Arts' 'ETL Developer' 'Java Developer'\n",
      " 'Health and fitness' 'Business Analyst' 'DotNet Developer' 'Testing'\n",
      " 'Python Developer' 'Health and fitness' 'Sales' 'Operations Manager'\n",
      " 'Testing' 'Business Analyst' 'Web Designing' 'Health and fitness'\n",
      " 'Testing' 'Electrical Engineering' 'Operations Manager' 'Advocate' 'HR'\n",
      " 'Python Developer' 'Data Science' 'Network Security Engineer'\n",
      " 'Electrical Engineering' 'Database' 'Java Developer' 'PMO' 'Data Science'\n",
      " 'Arts' 'Automation Testing' 'Java Developer' 'SAP Developer' 'Testing'\n",
      " 'HR' 'DevOps Engineer' 'Blockchain' 'Sales' 'Hadoop' 'Java Developer'\n",
      " 'Mechanical Engineer' 'ETL Developer' 'DotNet Developer' 'HR'\n",
      " 'Blockchain' 'HR' 'Database' 'Java Developer' 'Python Developer'\n",
      " 'Web Designing' 'DotNet Developer' 'Sales' 'DevOps Engineer'\n",
      " 'Java Developer' 'DevOps Engineer' 'Testing' 'Automation Testing'\n",
      " 'Database' 'Data Science' 'Hadoop' 'Hadoop' 'Operations Manager'\n",
      " 'Web Designing' 'Electrical Engineering' 'DevOps Engineer']\n"
     ]
    },
    {
     "data": {
      "text/plain": [
       "(None, None)"
      ]
     },
     "execution_count": 95,
     "metadata": {},
     "output_type": "execute_result"
    }
   ],
   "source": [
    "print(y_train),print(y_test)"
   ]
  },
  {
   "cell_type": "code",
   "execution_count": null,
   "metadata": {},
   "outputs": [],
   "source": []
  },
  {
   "cell_type": "markdown",
   "metadata": {},
   "source": [
    "### Classification Models"
   ]
  },
  {
   "cell_type": "markdown",
   "metadata": {},
   "source": [
    "#### Logistic Regression"
   ]
  },
  {
   "cell_type": "code",
   "execution_count": null,
   "metadata": {},
   "outputs": [],
   "source": [
    "model_lgr = LogisticRegression()\n",
    "model_lgr.fit(x_train, y_train)\n",
    "\n",
    "y_pred = model_lgr.predict(x_test)\n",
    "accuracy_lgr = accuracy_score(y_test, y_pred)"
   ]
  },
  {
   "cell_type": "code",
   "execution_count": null,
   "metadata": {},
   "outputs": [],
   "source": []
  },
  {
   "cell_type": "markdown",
   "metadata": {},
   "source": [
    "#### KNN Classifier"
   ]
  },
  {
   "cell_type": "code",
   "execution_count": null,
   "metadata": {},
   "outputs": [],
   "source": []
  },
  {
   "cell_type": "markdown",
   "metadata": {},
   "source": [
    "#### Random Forest Classifier"
   ]
  }
 ],
 "metadata": {
  "kernelspec": {
   "display_name": "conda",
   "language": "python",
   "name": "python3"
  },
  "language_info": {
   "codemirror_mode": {
    "name": "ipython",
    "version": 3
   },
   "file_extension": ".py",
   "mimetype": "text/x-python",
   "name": "python",
   "nbconvert_exporter": "python",
   "pygments_lexer": "ipython3",
   "version": "3.11.10"
  }
 },
 "nbformat": 4,
 "nbformat_minor": 4
}
